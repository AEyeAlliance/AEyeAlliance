{
  "nbformat": 4,
  "nbformat_minor": 0,
  "metadata": {
    "colab": {
      "name": "Braille to text converter (with validation set)",
      "version": "0.3.2",
      "views": {},
      "default_view": {},
      "provenance": [
        {
          "file_id": "1k_N3U6wqaxsXsCVlrKs4qwPZipuU1Mk8",
          "timestamp": 1528305352966
        },
        {
          "file_id": "19cLVbAvTfuu0pqaadxpgyMsFxHC3nnNF",
          "timestamp": 1527465087778
        }
      ],
      "collapsed_sections": []
    },
    "kernelspec": {
      "name": "python3",
      "display_name": "Python 3"
    },
    "accelerator": "GPU"
  },
  "cells": [
    {
      "metadata": {
        "id": "1_czUJTbYa3M",
        "colab_type": "text"
      },
      "cell_type": "markdown",
      "source": [
        "The model is overfitting like crazy, but it'll get better once we make our dataset larger."
      ]
    },
    {
      "metadata": {
        "id": "H-ra1DTnR0S6",
        "colab_type": "text"
      },
      "cell_type": "markdown",
      "source": [
        "### Install pytorch "
      ]
    },
    {
      "metadata": {
        "id": "ikmT9ejsWLrU",
        "colab_type": "code",
        "colab": {
          "autoexec": {
            "startup": false,
            "wait_interval": 0
          },
          "base_uri": "https://localhost:8080/",
          "height": 123
        },
        "cellView": "code",
        "outputId": "8f74c3ae-5b66-4b2b-e50d-dedfdc052721",
        "executionInfo": {
          "status": "ok",
          "timestamp": 1528384354191,
          "user_tz": 240,
          "elapsed": 4864,
          "user": {
            "displayName": "Ting-Yi Su",
            "photoUrl": "https://lh3.googleusercontent.com/a/default-user=s128",
            "userId": "118326931190013634369"
          }
        }
      },
      "cell_type": "code",
      "source": [
        "# use cross entropy for classification problems\n",
        "\n",
        "import time\n",
        "import platform\n",
        "import io\n",
        "\n",
        "import matplotlib.pyplot as plt\n",
        "from google.colab import files\n",
        "from matplotlib.pyplot import cm \n",
        "\n",
        "# import KFold from scikit-learn\n",
        "from sklearn.model_selection import KFold\n",
        "\n",
        "def install_pytorch():\n",
        "  os = platform.system()\n",
        "  if os == \"Linux\":\n",
        "      !pip3 install http://download.pytorch.org/whl/cu90/torch-0.4.0-cp36-cp36m-linux_x86_64.whl\n",
        "  elif os == \"Windows\":\n",
        "      !pip3 install http://download.pytorch.org/whl/cu90/torch-0.4.0-cp36-cp36m-win_amd64.whl \n",
        "  !pip3 install torchvision\n",
        "\n",
        "\n",
        "# Install PyTorch.\n",
        "install_pytorch()\n",
        "\n",
        "\n",
        "import torch\n",
        "import torch.nn as nn\n",
        "import torch.optim as optim"
      ],
      "execution_count": 3,
      "outputs": [
        {
          "output_type": "stream",
          "text": [
            "Requirement already satisfied: torch==0.4.0 from http://download.pytorch.org/whl/cu90/torch-0.4.0-cp36-cp36m-linux_x86_64.whl in /usr/local/lib/python3.6/dist-packages (0.4.0)\n",
            "Requirement already satisfied: torchvision in /usr/local/lib/python3.6/dist-packages (0.2.1)\n",
            "Requirement already satisfied: pillow>=4.1.1 in /usr/local/lib/python3.6/dist-packages (from torchvision) (5.1.0)\n",
            "Requirement already satisfied: torch in /usr/local/lib/python3.6/dist-packages (from torchvision) (0.4.0)\n",
            "Requirement already satisfied: six in /usr/local/lib/python3.6/dist-packages (from torchvision) (1.11.0)\n",
            "Requirement already satisfied: numpy in /usr/local/lib/python3.6/dist-packages (from torchvision) (1.14.3)\n"
          ],
          "name": "stdout"
        }
      ]
    },
    {
      "metadata": {
        "id": "TuhFUrX0O2Se",
        "colab_type": "text"
      },
      "cell_type": "markdown",
      "source": [
        "## Dataset"
      ]
    },
    {
      "metadata": {
        "id": "Tw-iCQFfRhS7",
        "colab_type": "text"
      },
      "cell_type": "markdown",
      "source": [
        "### Import and read the CSV file \n",
        "\n",
        "Load the dataset."
      ]
    },
    {
      "metadata": {
        "id": "_1kJYrn79Cft",
        "colab_type": "code",
        "colab": {
          "autoexec": {
            "startup": false,
            "wait_interval": 0
          }
        }
      },
      "cell_type": "code",
      "source": [
        "#import csv dataset\n",
        "import torchvision\n",
        "import csv\n",
        "import os\n",
        "import pandas as pd \n",
        "from urllib import request\n",
        "import requests\n",
        "\n",
        "# Upload and read the csv file from the github repo\n",
        "\n",
        "df = pd.read_csv(\"https://raw.githubusercontent.com/HelenG123/aeye-alliance/master/Data/data_day3.csv\")\n",
        "df_test = pd.read_csv(\"https://raw.githubusercontent.com/HelenG123/ai-alliance/master/brailleFinalv2.csv\")\n",
        "\n",
        "#https://raw.githubusercontent.com/HelenG123/ai-alliance/master/braille_data.csv\n",
        "# # Read the CSV file from a local directory\n",
        "# dataset_name = list(dataset.keys())[0]\n",
        "# df = pd.read_csv(io.StringIO(dataset[dataset_name].decode('utf-8')))\n"
      ],
      "execution_count": 0,
      "outputs": []
    },
    {
      "metadata": {
        "id": "NGxuIdjcd4-p",
        "colab_type": "text"
      },
      "cell_type": "markdown",
      "source": [
        "### Generate the Targets\n",
        "Create a dictionary that contains the target number for each image in the Braille alphabet.\n"
      ]
    },
    {
      "metadata": {
        "id": "dbQyhtDHnB6o",
        "colab_type": "code",
        "colab": {
          "autoexec": {
            "startup": false,
            "wait_interval": 0
          },
          "base_uri": "https://localhost:8080/",
          "height": 55
        },
        "outputId": "47d772aa-0dce-490f-ba62-8c5b029ac9b1",
        "executionInfo": {
          "status": "ok",
          "timestamp": 1528384358305,
          "user_tz": 240,
          "elapsed": 920,
          "user": {
            "displayName": "Ting-Yi Su",
            "photoUrl": "https://lh3.googleusercontent.com/a/default-user=s128",
            "userId": "118326931190013634369"
          }
        }
      },
      "cell_type": "code",
      "source": [
        "# not using one hot encoding vector\n",
        "# using 1-26 to represent a-z instead\n",
        "\n",
        "import string\n",
        "\n",
        "target = {}\n",
        "alphabet = list(string.ascii_lowercase)\n",
        "\n",
        "number = 0 \n",
        "for letter in alphabet: \n",
        "  target[letter] = number\n",
        "  number += 1\n",
        "\n",
        "print(target)"
      ],
      "execution_count": 5,
      "outputs": [
        {
          "output_type": "stream",
          "text": [
            "{'a': 0, 'b': 1, 'c': 2, 'd': 3, 'e': 4, 'f': 5, 'g': 6, 'h': 7, 'i': 8, 'j': 9, 'k': 10, 'l': 11, 'm': 12, 'n': 13, 'o': 14, 'p': 15, 'q': 16, 'r': 17, 's': 18, 't': 19, 'u': 20, 'v': 21, 'w': 22, 'x': 23, 'y': 24, 'z': 25}\n"
          ],
          "name": "stdout"
        }
      ]
    },
    {
      "metadata": {
        "id": "S6XGJhcJOvCM",
        "colab_type": "text"
      },
      "cell_type": "markdown",
      "source": [
        "### Iterate over the CSV files to add the targets\n",
        "Create a dictionary of the images that contains the image as a Tensor and its target as a number between 1-26."
      ]
    },
    {
      "metadata": {
        "id": "k6W-EK9_Oz_C",
        "colab_type": "code",
        "colab": {
          "autoexec": {
            "startup": false,
            "wait_interval": 0
          },
          "base_uri": "https://localhost:8080/",
          "height": 35
        },
        "outputId": "15a7ff23-09bb-4fb6-935b-ea92cbcea470",
        "executionInfo": {
          "status": "ok",
          "timestamp": 1528384683249,
          "user_tz": 240,
          "elapsed": 307830,
          "user": {
            "displayName": "Ting-Yi Su",
            "photoUrl": "https://lh3.googleusercontent.com/a/default-user=s128",
            "userId": "118326931190013634369"
          }
        }
      },
      "cell_type": "code",
      "source": [
        "from scipy import misc\n",
        "from io import BytesIO\n",
        "import urllib\n",
        "import cv2\n",
        "import numpy as np\n",
        "import tensorflow as tf\n",
        "\n",
        "import urllib.request\n",
        "\n",
        "from torchvision import transforms\n",
        "\n",
        "data=[]\n",
        "\n",
        "for i, row in df.iterrows():\n",
        "  picture = []\n",
        "  url = row['Labeled Data']\n",
        "  label = row['Label']\n",
        "  curr_target = target[label[10]]\n",
        "  # print(curr_target)\n",
        "\n",
        "  x = urllib.request.urlopen(url)\n",
        "  resp = x.read()\n",
        "  image = np.array(bytearray(resp), dtype=np.uint8)\n",
        "  image = cv2.imdecode(image, cv2.IMREAD_COLOR)\n",
        "  # resize image to 28x28x3\n",
        "  image = cv2.resize(image, (28, 28))\n",
        "  image = image.astype(np.float32)/255.0\n",
        "   #image = image.flatten().astype(np.float32)/255.0\n",
        "  image = torch.from_numpy(image)\n",
        "  picture.append(image)\n",
        "  curr_target=torch.LongTensor([curr_target])\n",
        "  picture.append(curr_target)\n",
        "  data.append(picture)\n",
        "\n",
        "print(image.shape) # these are the dimensions of our image\n",
        "# print(data[0][0])\n",
        "# print(data[0][1])\n",
        "# print(max([d[1] for d in data]))\n",
        "\n",
        "data_test=[]\n",
        "\n",
        "for i, row in df_test.iterrows():\n",
        "  picture = []\n",
        "  url = row['Labeled Data']\n",
        "  label = row['External ID']\n",
        "  curr_target = target[label[0]]\n",
        "  # print(curr_target)\n",
        "\n",
        "  x = urllib.request.urlopen(url)\n",
        "  resp = x.read()\n",
        "  image = np.array(bytearray(resp), dtype=np.uint8)\n",
        "  image = cv2.imdecode(image, cv2.IMREAD_COLOR)\n",
        "  # resize image to 28x28x3\n",
        "  image = cv2.resize(image, (28, 28))\n",
        "  image = image.astype(np.float32)/255.0\n",
        "   #image = image.flatten().astype(np.float32)/255.0\n",
        "  image = torch.from_numpy(image)\n",
        "  picture.append(image)\n",
        "  curr_target=torch.LongTensor([curr_target])\n",
        "  picture.append(curr_target)\n",
        "  data_test.append(picture)"
      ],
      "execution_count": 7,
      "outputs": [
        {
          "output_type": "stream",
          "text": [
            "torch.Size([28, 28, 3])\n"
          ],
          "name": "stdout"
        }
      ]
    },
    {
      "metadata": {
        "id": "thE4Nl9nMP0d",
        "colab_type": "text"
      },
      "cell_type": "markdown",
      "source": [
        "### Create DataLoader objects\n",
        "\n",
        "Dataloader gives the object that we can iterate over for enumerating and training our data."
      ]
    },
    {
      "metadata": {
        "id": "jAGps6lEMXVC",
        "colab_type": "code",
        "colab": {
          "autoexec": {
            "startup": false,
            "wait_interval": 0
          },
          "base_uri": "https://localhost:8080/",
          "height": 70
        },
        "outputId": "85fe2e1b-44d4-4e73-c9e2-6167506c7af8",
        "executionInfo": {
          "status": "ok",
          "timestamp": 1528385133041,
          "user_tz": 240,
          "elapsed": 398,
          "user": {
            "displayName": "Ting-Yi Su",
            "photoUrl": "https://lh3.googleusercontent.com/a/default-user=s128",
            "userId": "118326931190013634369"
          }
        }
      },
      "cell_type": "code",
      "source": [
        "# batch sizes for train, test, and validation\n",
        "batch_size_train = 10\n",
        "batch_size_test = 5\n",
        "batch_size_validation = 10\n",
        "\n",
        "# splitting data to get training and validation sets\n",
        "train_dataset = data[:600]\n",
        "validation_dataset = data[601:]\n",
        "\n",
        "# create the dataloader objects\n",
        "train_loader = torch.utils.data.DataLoader(dataset=train_dataset, batch_size=batch_size_train, shuffle=True)\n",
        "validation_loader = torch.utils.data.DataLoader(dataset=validation_dataset, batch_size=batch_size_validation, shuffle=True)\n",
        "test_loader = torch.utils.data.DataLoader(dataset=data_test, batch_size=batch_size_test, shuffle=False)\n",
        "\n",
        "print(len(train_loader))\n",
        "print(len(validation_loader))\n",
        "print(len(test_loader))"
      ],
      "execution_count": 8,
      "outputs": [
        {
          "output_type": "stream",
          "text": [
            "60\n",
            "9\n",
            "16\n"
          ],
          "name": "stdout"
        }
      ]
    },
    {
      "metadata": {
        "id": "zUxdGGHGeajB",
        "colab_type": "text"
      },
      "cell_type": "markdown",
      "source": [
        "### Visualize the Image\n",
        "Demonstrate that we can access and display an image from the dataset. \n"
      ]
    },
    {
      "metadata": {
        "id": "UkvrVL6EaJ0Z",
        "colab_type": "code",
        "colab": {
          "autoexec": {
            "startup": false,
            "wait_interval": 0
          },
          "base_uri": "https://localhost:8080/",
          "height": 365
        },
        "outputId": "0d97b79b-edc7-4ddc-9022-c4aac8ca01fb",
        "executionInfo": {
          "status": "ok",
          "timestamp": 1528385135998,
          "user_tz": 240,
          "elapsed": 398,
          "user": {
            "displayName": "Ting-Yi Su",
            "photoUrl": "https://lh3.googleusercontent.com/a/default-user=s128",
            "userId": "118326931190013634369"
          }
        }
      },
      "cell_type": "code",
      "source": [
        "# Display 'y' in Brailles\n",
        "import matplotlib.pyplot as plt\n",
        "import numpy as np\n",
        "dd = data[100][0].numpy()\n",
        "print('Braille Target: Y/y')\n",
        "plt.imshow(dd)\n",
        "plt.show()\n"
      ],
      "execution_count": 9,
      "outputs": [
        {
          "output_type": "stream",
          "text": [
            "Braille Target: Y/y\n"
          ],
          "name": "stdout"
        },
        {
          "output_type": "display_data",
          "data": {
            "image/png": "[encoded data removed]",
            "text/plain": [
              "<matplotlib.figure.Figure at 0x7fb68f3036a0>"
            ]
          },
          "metadata": {
            "tags": []
          }
        }
      ]
    },
    {
      "metadata": {
        "id": "n7kpWYqcx0Ab",
        "colab_type": "text"
      },
      "cell_type": "markdown",
      "source": [
        "## CNN Model"
      ]
    },
    {
      "metadata": {
        "id": "zjZ3lalDfUrv",
        "colab_type": "text"
      },
      "cell_type": "markdown",
      "source": [
        "### Define the Model"
      ]
    },
    {
      "metadata": {
        "id": "ruhzBcNumGl0",
        "colab_type": "code",
        "colab": {
          "autoexec": {
            "startup": false,
            "wait_interval": 0
          },
          "base_uri": "https://localhost:8080/",
          "height": 371
        },
        "outputId": "e7b3eca9-e2f7-4743-d8bd-c5fb7822ef4b",
        "executionInfo": {
          "status": "ok",
          "timestamp": 1528393907435,
          "user_tz": 240,
          "elapsed": 919,
          "user": {
            "displayName": "Ting-Yi Su",
            "photoUrl": "https://lh3.googleusercontent.com/a/default-user=s128",
            "userId": "118326931190013634369"
          }
        }
      },
      "cell_type": "code",
      "source": [
        "# import the nn.Module class\n",
        "import torch.nn as nn\n",
        "\n",
        "# defines the convolutional neural network\n",
        "class CNN(nn.Module):\n",
        "    def __init__(self):\n",
        "        super(CNN, self).__init__()\n",
        "        self.block1 = nn.Sequential(\n",
        "            #3x28x28\n",
        "            nn.Conv2d(in_channels=3, \n",
        "                      out_channels=16, \n",
        "                      kernel_size=5, \n",
        "                      stride=1, \n",
        "                      padding=2),\n",
        "            #16x28x28\n",
        "            nn.MaxPool2d(kernel_size=2),\n",
        "            #16x14x14\n",
        "            nn.LeakyReLU()\n",
        "        )\n",
        "        #16x14x14\n",
        "        self.block2 = nn.Sequential(\n",
        "            nn.Conv2d(in_channels=16, \n",
        "                      out_channels=32, \n",
        "                      kernel_size=5, \n",
        "                      stride=1, \n",
        "                      padding=2),\n",
        "            #32x14x14\n",
        "            nn.MaxPool2d(kernel_size=2),\n",
        "            #32x7x7\n",
        "            nn.LeakyReLU()\n",
        "        ) \n",
        "        # linearly \n",
        "        self.block3 = nn.Sequential(\n",
        "            nn.Linear(32*7*7, 100),\n",
        "            nn.LeakyReLU(),\n",
        "#             nn.Linear(500, 300),\n",
        "#             nn.Linear(300, 100),\n",
        "            nn.Linear(100, 26)\n",
        "        )\n",
        "        \n",
        "        #1x26\n",
        "    \n",
        "    def forward(self, x): \n",
        "        out = self.block1(x)\n",
        "        out = self.block2(out)\n",
        "        # flatten the dataset\n",
        "        out = out.view(-1, 32*7*7)\n",
        "        out = self.block3(out)\n",
        "        \n",
        "        return out\n",
        "\n",
        "# convolutional neural network model\n",
        "model = CNN()\n",
        "\n",
        "# print summary of the neural network model to check if everything is fine. \n",
        "print(model)\n",
        "print(\"# parameter: \", sum([param.nelement() for param in model.parameters()]))\n",
        "print(image.shape)"
      ],
      "execution_count": 94,
      "outputs": [
        {
          "output_type": "stream",
          "text": [
            "CNN(\n",
            "  (block1): Sequential(\n",
            "    (0): Conv2d(3, 16, kernel_size=(5, 5), stride=(1, 1), padding=(2, 2))\n",
            "    (1): MaxPool2d(kernel_size=2, stride=2, padding=0, dilation=1, ceil_mode=False)\n",
            "    (2): LeakyReLU(negative_slope=0.01)\n",
            "  )\n",
            "  (block2): Sequential(\n",
            "    (0): Conv2d(16, 32, kernel_size=(5, 5), stride=(1, 1), padding=(2, 2))\n",
            "    (1): MaxPool2d(kernel_size=2, stride=2, padding=0, dilation=1, ceil_mode=False)\n",
            "    (2): LeakyReLU(negative_slope=0.01)\n",
            "  )\n",
            "  (block3): Sequential(\n",
            "    (0): Linear(in_features=1568, out_features=100, bias=True)\n",
            "    (1): LeakyReLU(negative_slope=0.01)\n",
            "    (2): Linear(in_features=100, out_features=26, bias=True)\n",
            "  )\n",
            ")\n",
            "# parameter:  173574\n",
            "torch.Size([28, 28, 3])\n"
          ],
          "name": "stdout"
        }
      ]
    },
    {
      "metadata": {
        "id": "broXSAfX9fma",
        "colab_type": "text"
      },
      "cell_type": "markdown",
      "source": [
        "### Set the learning rate, criterion, & optimizer"
      ]
    },
    {
      "metadata": {
        "id": "0qiBVs22kt0S",
        "colab_type": "code",
        "colab": {
          "autoexec": {
            "startup": false,
            "wait_interval": 0
          }
        }
      },
      "cell_type": "code",
      "source": [
        "#setting the learning rate\n",
        "learning_rate = 1e-3\n",
        "\n",
        "# Using a variable to store the cross entropy method\n",
        "criterion = nn.CrossEntropyLoss()\n",
        "\n",
        "# Using a variable to store the optimizer \n",
        "optimizer = torch.optim.Adam(model.parameters(),lr = learning_rate)\n"
      ],
      "execution_count": 0,
      "outputs": []
    },
    {
      "metadata": {
        "id": "CLfmDuBL9lqi",
        "colab_type": "text"
      },
      "cell_type": "markdown",
      "source": [
        "## Train and Evaluate the data"
      ]
    },
    {
      "metadata": {
        "id": "zX9_7w_dxGQR",
        "colab_type": "text"
      },
      "cell_type": "markdown",
      "source": [
        "### Train the model on the train and evaluation sets"
      ]
    },
    {
      "metadata": {
        "id": "kvfb94yR9XPK",
        "colab_type": "code",
        "colab": {
          "autoexec": {
            "startup": false,
            "wait_interval": 0
          },
          "base_uri": "https://localhost:8080/",
          "height": 2237
        },
        "outputId": "e2a35650-3aa3-4b2b-e9fd-3077309a0e6d",
        "executionInfo": {
          "status": "ok",
          "timestamp": 1528399976180,
          "user_tz": 240,
          "elapsed": 46332,
          "user": {
            "displayName": "Ting-Yi Su",
            "photoUrl": "https://lh3.googleusercontent.com/a/default-user=s128",
            "userId": "118326931190013634369"
          }
        }
      },
      "cell_type": "code",
      "source": [
        "t0 = time.time()\n",
        "\n",
        "# list of all train_losses in 30 epochs\n",
        "train_losses = []\n",
        "# list of all validation losses in 30 epochs\n",
        "validation_losses = []\n",
        "\n",
        "# total train losses\n",
        "total_train_losses = []\n",
        "# total validation losses\n",
        "total_validation_losses = []\n",
        "\n",
        "# for loop that iterates over all the epochs\n",
        "num_epochs = 40\n",
        "for epoch in range(num_epochs):\n",
        "    \n",
        "  # variables to store/keep track of the loss and number of iterations\n",
        "  train_loss = 0\n",
        "  num_iter_train = 0\n",
        "\n",
        "  # train the model\n",
        "  model.train()\n",
        "    \n",
        "  # Iterate over train_loader\n",
        "  for i, (images, labels) in enumerate(train_loader):  \n",
        "    # need to permute so that the images are of size 3x28x28 \n",
        "    # essential to be able to feed images into the model\n",
        "    images = images.permute(0, 3, 1, 2)\n",
        "\n",
        "    # Zero the gradient buffer\n",
        "    # resets the gradient after each epoch so that the gradients don't add up\n",
        "    optimizer.zero_grad()  \n",
        "\n",
        "    # Forward\n",
        "    outputs = model(images)\n",
        "\n",
        "    # calculate the loss\n",
        "    loss = criterion(outputs, labels.view(-1))\n",
        "    #print('loss:', loss)\n",
        "    total_train_losses.append(loss)\n",
        "    # Backward (computes all the gradients)\n",
        "    loss.backward()\n",
        "\n",
        "    # Optimize\n",
        "    # loops through all parameters and updates weights by using the gradients \n",
        "    # takes steps backwards to optimize (to reach the minimum weight)\n",
        "    optimizer.step()\n",
        "    # update the training loss and number of iterations\n",
        "    train_loss += loss.data[0]\n",
        "    num_iter_train += 1\n",
        "\n",
        "  print('Epoch: {}, Training Loss: {:.4f}'.format(\n",
        "        epoch+1, train_loss/num_iter_train))\n",
        "  \n",
        "  train_losses.append(train_loss/num_iter_train)\n",
        "    \n",
        "  # variables to store/keep track of the loss and number of iterations\n",
        "  validation_loss = 0\n",
        "  num_iter_validation = 0\n",
        "    \n",
        "  # Iterate over train_loader\n",
        "  for i, (images, labels) in enumerate(validation_loader):  \n",
        "    # need to permute so that the images are of size 3x28x28 \n",
        "    # essential to be able to feed images into the model\n",
        "    images = images.permute(0, 3, 1, 2)\n",
        "    # print(images.shape)\n",
        "\n",
        "    # Zero the gradient buffer\n",
        "    # resets the gradient after each epoch so that the gradients don't add up\n",
        "    optimizer.zero_grad()  \n",
        "\n",
        "    # Forward\n",
        "    outputs = model(images)\n",
        "\n",
        "    # calculate the loss\n",
        "    loss = criterion(outputs, labels.view(-1))\n",
        "    #print('loss:', loss)\n",
        "    total_validation_losses.append(loss)\n",
        "\n",
        "    # update the training loss and number of iterations\n",
        "    validation_loss += loss.data[0]\n",
        "    num_iter_validation += 1\n",
        "\n",
        "  print('          Validation Loss: {:.4f}'.format(validation_loss/num_iter_validation))\n",
        "  \n",
        "  validation_losses.append(validation_loss/num_iter_validation)\n",
        "\n",
        "# calculate time it took to train the model\n",
        "tf = time.time()\n",
        "print()\n",
        "print(\"time: {} s\" .format(tf-t0))\n",
        "\n",
        "# print training loss and validation loss for all 30 epochs\n",
        "print(train_losses)\n",
        "print(validation_losses)"
      ],
      "execution_count": 105,
      "outputs": [
        {
          "output_type": "stream",
          "text": [
            "/usr/local/lib/python3.6/dist-packages/ipykernel_launcher.py:49: UserWarning: invalid index of a 0-dim tensor. This will be an error in PyTorch 0.5. Use tensor.item() to convert a 0-dim tensor to a Python number\n"
          ],
          "name": "stderr"
        },
        {
          "output_type": "stream",
          "text": [
            "Epoch: 1, Training Loss: 0.0049\n",
            "          Validation Loss: 1.7617\n"
          ],
          "name": "stdout"
        },
        {
          "output_type": "stream",
          "text": [
            "/usr/local/lib/python3.6/dist-packages/ipykernel_launcher.py:81: UserWarning: invalid index of a 0-dim tensor. This will be an error in PyTorch 0.5. Use tensor.item() to convert a 0-dim tensor to a Python number\n"
          ],
          "name": "stderr"
        },
        {
          "output_type": "stream",
          "text": [
            "Epoch: 2, Training Loss: 0.0048\n",
            "          Validation Loss: 1.7622\n",
            "Epoch: 3, Training Loss: 0.0048\n",
            "          Validation Loss: 1.1488\n",
            "Epoch: 4, Training Loss: 0.0032\n",
            "          Validation Loss: 1.7977\n",
            "Epoch: 5, Training Loss: 0.0042\n",
            "          Validation Loss: 1.0837\n",
            "Epoch: 6, Training Loss: 0.0040\n",
            "          Validation Loss: 1.0937\n",
            "Epoch: 7, Training Loss: 0.0047\n",
            "          Validation Loss: 1.0990\n",
            "Epoch: 8, Training Loss: 0.0045\n",
            "          Validation Loss: 1.0923\n",
            "Epoch: 9, Training Loss: 0.0034\n",
            "          Validation Loss: 1.1454\n",
            "Epoch: 10, Training Loss: 0.0043\n",
            "          Validation Loss: 1.3967\n",
            "Epoch: 11, Training Loss: 0.0044\n",
            "          Validation Loss: 1.1233\n",
            "Epoch: 12, Training Loss: 0.0043\n",
            "          Validation Loss: 1.8568\n",
            "Epoch: 13, Training Loss: 0.0033\n",
            "          Validation Loss: 1.1342\n",
            "Epoch: 14, Training Loss: 0.0048\n",
            "          Validation Loss: 1.0906\n",
            "Epoch: 15, Training Loss: 0.0056\n",
            "          Validation Loss: 1.0992\n",
            "Epoch: 16, Training Loss: 0.0046\n",
            "          Validation Loss: 1.1557\n",
            "Epoch: 17, Training Loss: 0.0045\n",
            "          Validation Loss: 1.1071\n",
            "Epoch: 18, Training Loss: 0.0044\n",
            "          Validation Loss: 1.1213\n",
            "Epoch: 19, Training Loss: 0.0044\n",
            "          Validation Loss: 1.1352\n",
            "Epoch: 20, Training Loss: 0.0029\n",
            "          Validation Loss: 1.1419\n",
            "Epoch: 21, Training Loss: 0.0044\n",
            "          Validation Loss: 1.1406\n",
            "Epoch: 22, Training Loss: 0.0038\n",
            "          Validation Loss: 1.1445\n",
            "Epoch: 23, Training Loss: 0.0052\n",
            "          Validation Loss: 1.1115\n",
            "Epoch: 24, Training Loss: 0.0071\n",
            "          Validation Loss: 1.0878\n",
            "Epoch: 25, Training Loss: 0.0041\n",
            "          Validation Loss: 1.3147\n",
            "Epoch: 26, Training Loss: 0.0083\n",
            "          Validation Loss: 1.4167\n",
            "Epoch: 27, Training Loss: 0.0042\n",
            "          Validation Loss: 1.0818\n",
            "Epoch: 28, Training Loss: 0.0052\n",
            "          Validation Loss: 1.0958\n",
            "Epoch: 29, Training Loss: 0.0037\n",
            "          Validation Loss: 1.1457\n",
            "Epoch: 30, Training Loss: 0.0045\n",
            "          Validation Loss: 1.1531\n",
            "Epoch: 31, Training Loss: 0.0036\n",
            "          Validation Loss: 1.8529\n",
            "Epoch: 32, Training Loss: 0.0040\n",
            "          Validation Loss: 1.1465\n",
            "Epoch: 33, Training Loss: 0.0029\n",
            "          Validation Loss: 1.2822\n",
            "Epoch: 34, Training Loss: 0.0040\n",
            "          Validation Loss: 1.2105\n",
            "Epoch: 35, Training Loss: 0.0036\n",
            "          Validation Loss: 1.2068\n",
            "Epoch: 36, Training Loss: 0.0042\n",
            "          Validation Loss: 1.2478\n",
            "Epoch: 37, Training Loss: 0.0032\n",
            "          Validation Loss: 1.2316\n",
            "Epoch: 38, Training Loss: 0.0042\n",
            "          Validation Loss: 1.2663\n",
            "Epoch: 39, Training Loss: 0.0414\n",
            "          Validation Loss: 1.7010\n",
            "Epoch: 40, Training Loss: 0.1804\n",
            "          Validation Loss: 1.9357\n",
            "\n",
            "time: 45.843087911605835 s\n",
            "[tensor(1.00000e-03 *\n",
            "       4.9119), tensor(1.00000e-03 *\n",
            "       4.7580), tensor(1.00000e-03 *\n",
            "       4.7672), tensor(1.00000e-03 *\n",
            "       3.2182), tensor(1.00000e-03 *\n",
            "       4.1596), tensor(1.00000e-03 *\n",
            "       4.0377), tensor(1.00000e-03 *\n",
            "       4.6705), tensor(1.00000e-03 *\n",
            "       4.4844), tensor(1.00000e-03 *\n",
            "       3.4011), tensor(1.00000e-03 *\n",
            "       4.3046), tensor(1.00000e-03 *\n",
            "       4.3504), tensor(1.00000e-03 *\n",
            "       4.2827), tensor(1.00000e-03 *\n",
            "       3.3099), tensor(1.00000e-03 *\n",
            "       4.7662), tensor(1.00000e-03 *\n",
            "       5.6411), tensor(1.00000e-03 *\n",
            "       4.6071), tensor(1.00000e-03 *\n",
            "       4.4860), tensor(1.00000e-03 *\n",
            "       4.4049), tensor(1.00000e-03 *\n",
            "       4.4418), tensor(1.00000e-03 *\n",
            "       2.9104), tensor(1.00000e-03 *\n",
            "       4.4446), tensor(1.00000e-03 *\n",
            "       3.7839), tensor(1.00000e-03 *\n",
            "       5.2056), tensor(1.00000e-03 *\n",
            "       7.0616), tensor(1.00000e-03 *\n",
            "       4.0673), tensor(1.00000e-03 *\n",
            "       8.3020), tensor(1.00000e-03 *\n",
            "       4.2010), tensor(1.00000e-03 *\n",
            "       5.2025), tensor(1.00000e-03 *\n",
            "       3.6936), tensor(1.00000e-03 *\n",
            "       4.5088), tensor(1.00000e-03 *\n",
            "       3.5821), tensor(1.00000e-03 *\n",
            "       3.9525), tensor(1.00000e-03 *\n",
            "       2.8654), tensor(1.00000e-03 *\n",
            "       3.9957), tensor(1.00000e-03 *\n",
            "       3.5745), tensor(1.00000e-03 *\n",
            "       4.1592), tensor(1.00000e-03 *\n",
            "       3.1967), tensor(1.00000e-03 *\n",
            "       4.1989), tensor(1.00000e-02 *\n",
            "       4.1415), tensor(0.1804)]\n",
            "[tensor(1.7617), tensor(1.7622), tensor(1.1488), tensor(1.7977), tensor(1.0837), tensor(1.0937), tensor(1.0990), tensor(1.0923), tensor(1.1454), tensor(1.3967), tensor(1.1233), tensor(1.8568), tensor(1.1342), tensor(1.0906), tensor(1.0992), tensor(1.1557), tensor(1.1071), tensor(1.1213), tensor(1.1352), tensor(1.1419), tensor(1.1406), tensor(1.1445), tensor(1.1115), tensor(1.0878), tensor(1.3147), tensor(1.4167), tensor(1.0818), tensor(1.0958), tensor(1.1457), tensor(1.1531), tensor(1.8529), tensor(1.1465), tensor(1.2822), tensor(1.2105), tensor(1.2068), tensor(1.2478), tensor(1.2316), tensor(1.2663), tensor(1.7010), tensor(1.9357)]\n"
          ],
          "name": "stdout"
        }
      ]
    },
    {
      "metadata": {
        "id": "v1jkUh6l4t7f",
        "colab_type": "text"
      },
      "cell_type": "markdown",
      "source": [
        "### Plot the learning curve\n",
        "\n",
        "The learning curve is the validation & train losses over the training steps. Need to plot the learning curve to check for overfitting. "
      ]
    },
    {
      "metadata": {
        "id": "5Gt0Ho2N4y_u",
        "colab_type": "code",
        "colab": {
          "autoexec": {
            "startup": false,
            "wait_interval": 0
          }
        }
      },
      "cell_type": "code",
      "source": [
        "# learning curve function\n",
        "def plot_learning_curve(train_losses, validation_losses):\n",
        "  # plot the training and validation losses\n",
        "  # x-axis is the number of training steps\n",
        "  # y-axis is loss\n",
        "  plt.ylabel('Loss')\n",
        "  plt.xlabel('Number of Epochs')\n",
        "  plt.plot(train_losses, label=\"training\")\n",
        "  plt.plot(validation_losses, label=\"validation\")\n",
        "  plt.legend(loc=1)"
      ],
      "execution_count": 0,
      "outputs": []
    },
    {
      "metadata": {
        "id": "17pXv-VPN5dQ",
        "colab_type": "code",
        "colab": {
          "autoexec": {
            "startup": false,
            "wait_interval": 0
          },
          "base_uri": "https://localhost:8080/",
          "height": 376
        },
        "outputId": "83df3a12-17b4-46ff-82b7-384029d933d0",
        "executionInfo": {
          "status": "ok",
          "timestamp": 1528393975207,
          "user_tz": 240,
          "elapsed": 1775,
          "user": {
            "displayName": "Ting-Yi Su",
            "photoUrl": "https://lh3.googleusercontent.com/a/default-user=s128",
            "userId": "118326931190013634369"
          }
        }
      },
      "cell_type": "code",
      "source": [
        "# plot\n",
        "plt.title(\"Learning Curve (Loss vs Number of Epochs)\")\n",
        "plot_learning_curve(train_losses, validation_losses)"
      ],
      "execution_count": 98,
      "outputs": [
        {
          "output_type": "display_data",
          "data": {
            "image/png": "[encoded data removed]",
            "text/plain": [
              "<matplotlib.figure.Figure at 0x7fb5ec848898>"
            ]
          },
          "metadata": {
            "tags": []
          }
        }
      ]
    },
    {
      "metadata": {
        "id": "JpYO3yA84RYg",
        "colab_type": "text"
      },
      "cell_type": "markdown",
      "source": [
        "### Evalutate the model\n",
        "\n",
        "Don't touch the test set until the very end. "
      ]
    },
    {
      "metadata": {
        "id": "B8raennyLGRj",
        "colab_type": "code",
        "colab": {
          "autoexec": {
            "startup": false,
            "wait_interval": 0
          },
          "base_uri": "https://localhost:8080/",
          "height": 580
        },
        "outputId": "458314db-5edf-4671-8432-fe8d1e822471",
        "executionInfo": {
          "status": "ok",
          "timestamp": 1528393988130,
          "user_tz": 240,
          "elapsed": 3035,
          "user": {
            "displayName": "Ting-Yi Su",
            "photoUrl": "https://lh3.googleusercontent.com/a/default-user=s128",
            "userId": "118326931190013634369"
          }
        }
      },
      "cell_type": "code",
      "source": [
        "t0 = time.time()\n",
        "\n",
        "# for loop that iterates over all the epochs\n",
        "num_epochs = 30\n",
        "for epoch in range(num_epochs):\n",
        "\n",
        "  # evaluate the model\n",
        "  model.eval()\n",
        "\n",
        "  correct = 0\n",
        "  total = 0\n",
        "\n",
        "  # Iterate over test_loader\n",
        "  for images, labels in test_loader:  \n",
        "\n",
        "     # need to permute so that the images are of size 3x28x28 \n",
        "     # essential to be able to feed images into the model\n",
        "     images = images.permute(0, 3, 1, 2)\n",
        "\n",
        "     # Forward\n",
        "     outputs = model(images)\n",
        "     loss = criterion(outputs, labels.view(-1))\n",
        "     # torch.max returns the max value, as well as the index of that max value\n",
        "     _, predicted = torch.max(outputs.data, 1)\n",
        "\n",
        "     # Statistics\n",
        "     total += labels.size(0)\n",
        "     correct += (predicted == labels).sum()\n",
        "\n",
        "  print('Epoch {}, Accuracy on the test set: {}%'.format(epoch+1, 100 * correct / total))\n",
        "\n",
        "tf = time.time()\n",
        "print()\n",
        "print(\"time: {} s\" .format(tf-t0))"
      ],
      "execution_count": 99,
      "outputs": [
        {
          "output_type": "stream",
          "text": [
            "Epoch 1, Accuracy on the test set: 100%\n",
            "Epoch 2, Accuracy on the test set: 100%\n",
            "Epoch 3, Accuracy on the test set: 100%\n",
            "Epoch 4, Accuracy on the test set: 100%\n",
            "Epoch 5, Accuracy on the test set: 100%\n",
            "Epoch 6, Accuracy on the test set: 100%\n",
            "Epoch 7, Accuracy on the test set: 100%\n",
            "Epoch 8, Accuracy on the test set: 100%\n",
            "Epoch 9, Accuracy on the test set: 100%\n",
            "Epoch 10, Accuracy on the test set: 100%\n",
            "Epoch 11, Accuracy on the test set: 100%\n",
            "Epoch 12, Accuracy on the test set: 100%\n",
            "Epoch 13, Accuracy on the test set: 100%\n",
            "Epoch 14, Accuracy on the test set: 100%\n",
            "Epoch 15, Accuracy on the test set: 100%\n",
            "Epoch 16, Accuracy on the test set: 100%\n",
            "Epoch 17, Accuracy on the test set: 100%\n",
            "Epoch 18, Accuracy on the test set: 100%\n",
            "Epoch 19, Accuracy on the test set: 100%\n",
            "Epoch 20, Accuracy on the test set: 100%\n",
            "Epoch 21, Accuracy on the test set: 100%\n",
            "Epoch 22, Accuracy on the test set: 100%\n",
            "Epoch 23, Accuracy on the test set: 100%\n",
            "Epoch 24, Accuracy on the test set: 100%\n",
            "Epoch 25, Accuracy on the test set: 100%\n",
            "Epoch 26, Accuracy on the test set: 100%\n",
            "Epoch 27, Accuracy on the test set: 100%\n",
            "Epoch 28, Accuracy on the test set: 100%\n",
            "Epoch 29, Accuracy on the test set: 100%\n",
            "Epoch 30, Accuracy on the test set: 100%\n",
            "\n",
            "time: 1.4433190822601318 s\n"
          ],
          "name": "stdout"
        }
      ]
    }
  ]
}