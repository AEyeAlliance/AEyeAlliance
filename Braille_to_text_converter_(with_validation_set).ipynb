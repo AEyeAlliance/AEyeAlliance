{
  "nbformat": 4,
  "nbformat_minor": 0,
  "metadata": {
    "colab": {
      "name": "Braille to text converter (with validation set)",
      "version": "0.3.2",
      "views": {},
      "default_view": {},
      "provenance": [
        {
          "file_id": "1k_N3U6wqaxsXsCVlrKs4qwPZipuU1Mk8",
          "timestamp": 1528305352966
        },
        {
          "file_id": "19cLVbAvTfuu0pqaadxpgyMsFxHC3nnNF",
          "timestamp": 1527465087778
        }
      ],
      "collapsed_sections": []
    },
    "kernelspec": {
      "name": "python3",
      "display_name": "Python 3"
    },
    "accelerator": "GPU"
  },
  "cells": [
    {
      "metadata": {
        "id": "H-ra1DTnR0S6",
        "colab_type": "text"
      },
      "cell_type": "markdown",
      "source": [
        "### Install pytorch "
      ]
    },
    {
      "metadata": {
        "id": "ikmT9ejsWLrU",
        "colab_type": "code",
        "colab": {
          "autoexec": {
            "startup": false,
            "wait_interval": 0
          },
          "base_uri": "https://localhost:8080/",
          "height": 142
        },
        "cellView": "code",
        "outputId": "8c424d02-5d39-4834-fd74-3bf093b890a4",
        "executionInfo": {
          "status": "ok",
          "timestamp": 1528305630461,
          "user_tz": 240,
          "elapsed": 4586,
          "user": {
            "displayName": "Ting-Yi Su",
            "photoUrl": "https://lh3.googleusercontent.com/a/default-user=s128",
            "userId": "118326931190013634369"
          }
        }
      },
      "cell_type": "code",
      "source": [
        "# use cross entropy for classification problems\n",
        "\n",
        "import time\n",
        "import platform\n",
        "import io\n",
        "\n",
        "import matplotlib.pyplot as plt\n",
        "from google.colab import files\n",
        "from matplotlib.pyplot import cm \n",
        "\n",
        "# import KFold from scikit-learn\n",
        "from sklearn.model_selection import KFold\n",
        "\n",
        "def install_pytorch():\n",
        "    os = platform.system()\n",
        "    if os == \"Linux\":\n",
        "        !pip3 install http://download.pytorch.org/whl/cu90/torch-0.4.0-cp36-cp36m-linux_x86_64.whl\n",
        "    elif os == \"Windows\":\n",
        "        !pip3 install http://download.pytorch.org/whl/cu90/torch-0.4.0-cp36-cp36m-win_amd64.whl \n",
        "    !pip3 install torchvision\n",
        "\n",
        "\n",
        "# Install PyTorch.\n",
        "install_pytorch()\n",
        "\n",
        "\n",
        "import torch\n",
        "import torch.nn as nn\n",
        "import torch.optim as optim"
      ],
      "execution_count": 1,
      "outputs": [
        {
          "output_type": "stream",
          "text": [
            "Requirement already satisfied: torch==0.4.0 from http://download.pytorch.org/whl/cu90/torch-0.4.0-cp36-cp36m-linux_x86_64.whl in /usr/local/lib/python3.6/dist-packages (0.4.0)\n",
            "Requirement already satisfied: torchvision in /usr/local/lib/python3.6/dist-packages (0.2.1)\n",
            "Requirement already satisfied: pillow>=4.1.1 in /usr/local/lib/python3.6/dist-packages (from torchvision) (5.1.0)\n",
            "Requirement already satisfied: torch in /usr/local/lib/python3.6/dist-packages (from torchvision) (0.4.0)\n",
            "Requirement already satisfied: numpy in /usr/local/lib/python3.6/dist-packages (from torchvision) (1.14.3)\n",
            "Requirement already satisfied: six in /usr/local/lib/python3.6/dist-packages (from torchvision) (1.11.0)\n"
          ],
          "name": "stdout"
        }
      ]
    },
    {
      "metadata": {
        "id": "TuhFUrX0O2Se",
        "colab_type": "text"
      },
      "cell_type": "markdown",
      "source": [
        "## Dataset"
      ]
    },
    {
      "metadata": {
        "id": "Tw-iCQFfRhS7",
        "colab_type": "text"
      },
      "cell_type": "markdown",
      "source": [
        "### Import and read the CSV file \n",
        "\n",
        "Load the dataset."
      ]
    },
    {
      "metadata": {
        "id": "_1kJYrn79Cft",
        "colab_type": "code",
        "colab": {
          "autoexec": {
            "startup": false,
            "wait_interval": 0
          }
        }
      },
      "cell_type": "code",
      "source": [
        "#import csv dataset\n",
        "import torchvision\n",
        "import csv\n",
        "import os\n",
        "import pandas as pd \n",
        "from urllib import request\n",
        "import requests\n",
        "\n",
        "# Upload and read the csv file from the github repo\n",
        "\n",
        "df = pd.read_csv(\"https://raw.githubusercontent.com/HelenG123/aeye-alliance/master/Data/data_day3.csv\")\n",
        "df_test = pd.read_csv(\"https://raw.githubusercontent.com/HelenG123/ai-alliance/master/brailleFinalv2.csv\")\n",
        "\n",
        "#https://raw.githubusercontent.com/HelenG123/ai-alliance/master/braille_data.csv\n",
        "# # Read the CSV file from a local directory\n",
        "# dataset_name = list(dataset.keys())[0]\n",
        "# df = pd.read_csv(io.StringIO(dataset[dataset_name].decode('utf-8')))\n"
      ],
      "execution_count": 0,
      "outputs": []
    },
    {
      "metadata": {
        "id": "NGxuIdjcd4-p",
        "colab_type": "text"
      },
      "cell_type": "markdown",
      "source": [
        "### Generate the Targets\n",
        "Create a dictionary that contains the target number for each image in the Braille alphabet.\n"
      ]
    },
    {
      "metadata": {
        "id": "dbQyhtDHnB6o",
        "colab_type": "code",
        "colab": {
          "autoexec": {
            "startup": false,
            "wait_interval": 0
          },
          "base_uri": "https://localhost:8080/",
          "height": 54
        },
        "outputId": "a8b75638-db84-47fc-a56d-13ee1e195a7e",
        "executionInfo": {
          "status": "ok",
          "timestamp": 1528307451281,
          "user_tz": 240,
          "elapsed": 285,
          "user": {
            "displayName": "Ting-Yi Su",
            "photoUrl": "https://lh3.googleusercontent.com/a/default-user=s128",
            "userId": "118326931190013634369"
          }
        }
      },
      "cell_type": "code",
      "source": [
        "# not using one hot encoding vector\n",
        "# using 1-26 to represent a-z instead\n",
        "\n",
        "import string\n",
        "\n",
        "target = {}\n",
        "alphabet = list(string.ascii_lowercase)\n",
        "\n",
        "number = 0 \n",
        "for letter in alphabet: \n",
        "  target[letter] = number\n",
        "  number += 1\n",
        "\n",
        "print(target)"
      ],
      "execution_count": 4,
      "outputs": [
        {
          "output_type": "stream",
          "text": [
            "{'a': 0, 'b': 1, 'c': 2, 'd': 3, 'e': 4, 'f': 5, 'g': 6, 'h': 7, 'i': 8, 'j': 9, 'k': 10, 'l': 11, 'm': 12, 'n': 13, 'o': 14, 'p': 15, 'q': 16, 'r': 17, 's': 18, 't': 19, 'u': 20, 'v': 21, 'w': 22, 'x': 23, 'y': 24, 'z': 25}\n"
          ],
          "name": "stdout"
        }
      ]
    },
    {
      "metadata": {
        "id": "TLSF1BrXd5sU",
        "colab_type": "code",
        "colab": {
          "autoexec": {
            "startup": false,
            "wait_interval": 0
          }
        }
      },
      "cell_type": "code",
      "source": [
        "# import string\n",
        "# alphabet = list(string.ascii_lowercase)\n",
        "\n",
        "# target = {}\n",
        "\n",
        "# # Initalize a target dict that has the letters as its keys and as its value\n",
        "# # an empty one-hot encoding of size 26\n",
        "# for letter in alphabet: \n",
        "#   target[letter] = [0] * 26\n",
        "\n",
        "# # Do the one-hot encoding for each letter now \n",
        "# curr_pos = 0 \n",
        "# for curr_letter in target.keys():\n",
        "#   target[curr_letter][curr_pos] = 1\n",
        "#   curr_pos += 1  \n",
        "\n",
        "# print(target)"
      ],
      "execution_count": 0,
      "outputs": []
    },
    {
      "metadata": {
        "id": "S6XGJhcJOvCM",
        "colab_type": "text"
      },
      "cell_type": "markdown",
      "source": [
        "### Iterate over the CSV files to add the targets\n",
        "Create a dictionary of the images that contains the image as a Tensor and its target as a number between 1-26."
      ]
    },
    {
      "metadata": {
        "id": "k6W-EK9_Oz_C",
        "colab_type": "code",
        "colab": {
          "autoexec": {
            "startup": false,
            "wait_interval": 0
          },
          "base_uri": "https://localhost:8080/",
          "height": 924
        },
        "outputId": "ffbf1655-0daa-4fb0-8628-94a2bf34e56a",
        "executionInfo": {
          "status": "ok",
          "timestamp": 1528307547441,
          "user_tz": 240,
          "elapsed": 93309,
          "user": {
            "displayName": "Ting-Yi Su",
            "photoUrl": "https://lh3.googleusercontent.com/a/default-user=s128",
            "userId": "118326931190013634369"
          }
        }
      },
      "cell_type": "code",
      "source": [
        "from scipy import misc\n",
        "from io import BytesIO\n",
        "import urllib\n",
        "import cv2\n",
        "import numpy as np\n",
        "import tensorflow as tf\n",
        "\n",
        "import urllib.request\n",
        "\n",
        "from torchvision import transforms\n",
        "\n",
        "data=[]\n",
        "\n",
        "for i, row in df.iterrows():\n",
        "  picture = []\n",
        "  url = row['Labeled Data']\n",
        "  label = row['Label']\n",
        "  curr_target = target[label[10]]\n",
        "  # print(curr_target)\n",
        "\n",
        "  x = urllib.request.urlopen(url)\n",
        "  resp = x.read()\n",
        "  image = np.array(bytearray(resp), dtype=np.uint8)\n",
        "  image = cv2.imdecode(image, cv2.IMREAD_COLOR)\n",
        "  # resize image to 28x28x3\n",
        "  image = cv2.resize(image, (28, 28))\n",
        "  image = image.astype(np.float32)/255.0\n",
        "   #image = image.flatten().astype(np.float32)/255.0\n",
        "  image = torch.from_numpy(image)\n",
        "  picture.append(image)\n",
        "  curr_target=torch.LongTensor([curr_target])\n",
        "  picture.append(curr_target)\n",
        "  data.append(picture)\n",
        "\n",
        "print(image.shape) # these are the dimensions of our image\n",
        "print(data[0][0])\n",
        "print(data[0][1])\n",
        "print(max([d[1] for d in data]))\n",
        "\n",
        "data_test=[]\n",
        "\n",
        "for i, row in df_test.iterrows():\n",
        "  picture = []\n",
        "  url = row['Labeled Data']\n",
        "  label = row['External ID']\n",
        "  curr_target = target[label[0]]\n",
        "  # print(curr_target)\n",
        "\n",
        "  x = urllib.request.urlopen(url)\n",
        "  resp = x.read()\n",
        "  image = np.array(bytearray(resp), dtype=np.uint8)\n",
        "  image = cv2.imdecode(image, cv2.IMREAD_COLOR)\n",
        "  # resize image to 28x28x3\n",
        "  image = cv2.resize(image, (28, 28))\n",
        "  image = image.astype(np.float32)/255.0\n",
        "   #image = image.flatten().astype(np.float32)/255.0\n",
        "  image = torch.from_numpy(image)\n",
        "  picture.append(image)\n",
        "  curr_target=torch.LongTensor([curr_target])\n",
        "  picture.append(curr_target)\n",
        "  data_test.append(picture)"
      ],
      "execution_count": 5,
      "outputs": [
        {
          "output_type": "stream",
          "text": [
            "torch.Size([28, 28, 3])\n",
            "tensor([[[ 0.8745,  0.8314,  0.8157],\n",
            "         [ 0.8745,  0.8275,  0.8157],\n",
            "         [ 0.8745,  0.8275,  0.8196],\n",
            "         ...,\n",
            "         [ 0.8784,  0.8314,  0.8157],\n",
            "         [ 0.8745,  0.8314,  0.8196],\n",
            "         [ 0.8745,  0.8314,  0.8196]],\n",
            "\n",
            "        [[ 0.8706,  0.8275,  0.8118],\n",
            "         [ 0.8706,  0.8275,  0.8118],\n",
            "         [ 0.8667,  0.8235,  0.8078],\n",
            "         ...,\n",
            "         [ 0.8824,  0.8353,  0.8196],\n",
            "         [ 0.8745,  0.8275,  0.8196],\n",
            "         [ 0.8706,  0.8235,  0.8157]],\n",
            "\n",
            "        [[ 0.8745,  0.8314,  0.8157],\n",
            "         [ 0.8745,  0.8314,  0.8157],\n",
            "         [ 0.8706,  0.8275,  0.8118],\n",
            "         ...,\n",
            "         [ 0.8863,  0.8392,  0.8275],\n",
            "         [ 0.8745,  0.8275,  0.8196],\n",
            "         [ 0.8745,  0.8275,  0.8196]],\n",
            "\n",
            "        ...,\n",
            "\n",
            "        [[ 0.8706,  0.8314,  0.8039],\n",
            "         [ 0.8824,  0.8431,  0.8157],\n",
            "         [ 0.8784,  0.8392,  0.8118],\n",
            "         ...,\n",
            "         [ 0.8706,  0.8314,  0.8039],\n",
            "         [ 0.8627,  0.8275,  0.8000],\n",
            "         [ 0.8627,  0.8275,  0.7961]],\n",
            "\n",
            "        [[ 0.8627,  0.8275,  0.7922],\n",
            "         [ 0.8745,  0.8392,  0.8039],\n",
            "         [ 0.8745,  0.8392,  0.8039],\n",
            "         ...,\n",
            "         [ 0.8784,  0.8392,  0.8118],\n",
            "         [ 0.8627,  0.8235,  0.7961],\n",
            "         [ 0.8588,  0.8196,  0.7922]],\n",
            "\n",
            "        [[ 0.8667,  0.8314,  0.7961],\n",
            "         [ 0.8745,  0.8392,  0.8039],\n",
            "         [ 0.8745,  0.8392,  0.8039],\n",
            "         ...,\n",
            "         [ 0.8667,  0.8275,  0.7961],\n",
            "         [ 0.8667,  0.8275,  0.8000],\n",
            "         [ 0.8667,  0.8275,  0.8000]]])\n",
            "tensor([ 0])\n",
            "tensor([ 25])\n"
          ],
          "name": "stdout"
        }
      ]
    },
    {
      "metadata": {
        "id": "thE4Nl9nMP0d",
        "colab_type": "text"
      },
      "cell_type": "markdown",
      "source": [
        "### Create DataLoader objects\n",
        "\n",
        "Dataloader gives the object that we can iterate over for enumerating and training our data."
      ]
    },
    {
      "metadata": {
        "id": "jAGps6lEMXVC",
        "colab_type": "code",
        "colab": {
          "autoexec": {
            "startup": false,
            "wait_interval": 0
          },
          "base_uri": "https://localhost:8080/",
          "height": 69
        },
        "outputId": "927fd72f-e50f-4db7-de56-86263e0691cd",
        "executionInfo": {
          "status": "ok",
          "timestamp": 1528308412360,
          "user_tz": 240,
          "elapsed": 356,
          "user": {
            "displayName": "Ting-Yi Su",
            "photoUrl": "https://lh3.googleusercontent.com/a/default-user=s128",
            "userId": "118326931190013634369"
          }
        }
      },
      "cell_type": "code",
      "source": [
        "# batch sizes for train, test, and validation\n",
        "batch_size_train = 10\n",
        "batch_size_test = 5\n",
        "batch_size_validation = 10\n",
        "\n",
        "# splitting data to get training and validation sets\n",
        "train_dataset = data[:600]\n",
        "validation_dataset = data[601:]\n",
        "\n",
        "# create the dataloader objects\n",
        "train_loader = torch.utils.data.DataLoader(dataset=train_dataset, batch_size=batch_size_train, shuffle=True)\n",
        "validation_loader = torch.utils.data.DataLoader(dataset=validation_dataset, batch_size=batch_size_validation, shuffle=True)\n",
        "test_loader = torch.utils.data.DataLoader(dataset=data_test, batch_size=batch_size_test, shuffle=False)\n",
        "\n",
        "print(len(train_loader))\n",
        "print(len(validation_loader))\n",
        "print(len(test_loader))"
      ],
      "execution_count": 17,
      "outputs": [
        {
          "output_type": "stream",
          "text": [
            "60\n",
            "9\n",
            "16\n"
          ],
          "name": "stdout"
        }
      ]
    },
    {
      "metadata": {
        "id": "zUxdGGHGeajB",
        "colab_type": "text"
      },
      "cell_type": "markdown",
      "source": [
        "### Visualize the Image\n",
        "Demonstrate that we can access and display an image from the dataset. \n"
      ]
    },
    {
      "metadata": {
        "id": "UkvrVL6EaJ0Z",
        "colab_type": "code",
        "colab": {
          "autoexec": {
            "startup": false,
            "wait_interval": 0
          },
          "base_uri": "https://localhost:8080/",
          "height": 365
        },
        "outputId": "c1e75192-b603-47bc-e5c9-ff29a7471e7f",
        "executionInfo": {
          "status": "ok",
          "timestamp": 1528300357090,
          "user_tz": 240,
          "elapsed": 443,
          "user": {
            "displayName": "Ting-Yi Su",
            "photoUrl": "https://lh3.googleusercontent.com/a/default-user=s128",
            "userId": "118326931190013634369"
          }
        }
      },
      "cell_type": "code",
      "source": [
        "# Display 'y' in Brailles\n",
        "import matplotlib.pyplot as plt\n",
        "import numpy as np\n",
        "dd = data[100][0].numpy()\n",
        "print('Braille Target: Y/y')\n",
        "plt.imshow(dd)\n",
        "plt.show()\n"
      ],
      "execution_count": 0,
      "outputs": [
        {
          "output_type": "stream",
          "text": [
            "Braille Target: Y/y\n"
          ],
          "name": "stdout"
        },
        {
          "output_type": "display_data",
          "data": {
            "image/png": "[encoded data removed]",
            "text/plain": [
              "<matplotlib.figure.Figure at 0x7f62bd6e95c0>"
            ]
          },
          "metadata": {
            "tags": []
          }
        }
      ]
    },
    {
      "metadata": {
        "id": "n7kpWYqcx0Ab",
        "colab_type": "text"
      },
      "cell_type": "markdown",
      "source": [
        "## CNN Model"
      ]
    },
    {
      "metadata": {
        "id": "zjZ3lalDfUrv",
        "colab_type": "text"
      },
      "cell_type": "markdown",
      "source": [
        "### Define the Model"
      ]
    },
    {
      "metadata": {
        "id": "ruhzBcNumGl0",
        "colab_type": "code",
        "colab": {
          "autoexec": {
            "startup": false,
            "wait_interval": 0
          },
          "base_uri": "https://localhost:8080/",
          "height": 331
        },
        "outputId": "610cdeb2-d38c-4952-f2e7-c588e97c3ec8",
        "executionInfo": {
          "status": "ok",
          "timestamp": 1528307657118,
          "user_tz": 240,
          "elapsed": 357,
          "user": {
            "displayName": "Ting-Yi Su",
            "photoUrl": "https://lh3.googleusercontent.com/a/default-user=s128",
            "userId": "118326931190013634369"
          }
        }
      },
      "cell_type": "code",
      "source": [
        "# import the nn.Module class\n",
        "import torch.nn as nn\n",
        "\n",
        "# defines the convolutional neural network\n",
        "class CNN(nn.Module):\n",
        "    def __init__(self):\n",
        "        super(CNN, self).__init__()\n",
        "        self.block1 = nn.Sequential(\n",
        "            #3x28x28\n",
        "            nn.Conv2d(in_channels=3, \n",
        "                      out_channels=16, \n",
        "                      kernel_size=5, \n",
        "                      stride=1, \n",
        "                      padding=2),\n",
        "            #16x28x28\n",
        "            nn.MaxPool2d(kernel_size=2)\n",
        "            #16x14x14\n",
        "        )\n",
        "        #16x14x14\n",
        "        self.block2 = nn.Sequential(\n",
        "            nn.Conv2d(in_channels=16, \n",
        "                      out_channels=32, \n",
        "                      kernel_size=5, \n",
        "                      stride=1, \n",
        "                      padding=2),\n",
        "            #32x14x14\n",
        "            nn.MaxPool2d(kernel_size=2)\n",
        "            #32x7x7\n",
        "        ) \n",
        "        # linearly \n",
        "        self.block3 = nn.Sequential(\n",
        "            nn.Linear(32*7*7, 500),\n",
        "            nn.Linear(500, 300),\n",
        "            nn.Linear(300, 100),\n",
        "            nn.Linear(100, 26)\n",
        "        )\n",
        "        \n",
        "        #1x26\n",
        "    \n",
        "    def forward(self, x): \n",
        "        out = self.block1(x)\n",
        "        out = self.block2(out)\n",
        "        # flatten the dataset\n",
        "        out = out.view(-1, 32*7*7)\n",
        "        out = self.block3(out)\n",
        "        \n",
        "        return out\n",
        "\n",
        "# convolutional neural network model\n",
        "model = CNN()\n",
        "\n",
        "# print summary of the neural network model to check if everything is fine. \n",
        "print(model)\n",
        "print(\"# parameter: \", sum([param.nelement() for param in model.parameters()]))\n",
        "print(image.shape)"
      ],
      "execution_count": 9,
      "outputs": [
        {
          "output_type": "stream",
          "text": [
            "CNN(\n",
            "  (block1): Sequential(\n",
            "    (0): Conv2d(3, 16, kernel_size=(5, 5), stride=(1, 1), padding=(2, 2))\n",
            "    (1): MaxPool2d(kernel_size=2, stride=2, padding=0, dilation=1, ceil_mode=False)\n",
            "  )\n",
            "  (block2): Sequential(\n",
            "    (0): Conv2d(16, 32, kernel_size=(5, 5), stride=(1, 1), padding=(2, 2))\n",
            "    (1): MaxPool2d(kernel_size=2, stride=2, padding=0, dilation=1, ceil_mode=False)\n",
            "  )\n",
            "  (block3): Sequential(\n",
            "    (0): Linear(in_features=1568, out_features=500, bias=True)\n",
            "    (1): Linear(in_features=500, out_features=300, bias=True)\n",
            "    (2): Linear(in_features=300, out_features=100, bias=True)\n",
            "    (3): Linear(in_features=100, out_features=26, bias=True)\n",
            "  )\n",
            ")\n",
            "# parameter:  981574\n",
            "torch.Size([28, 28, 3])\n"
          ],
          "name": "stdout"
        }
      ]
    },
    {
      "metadata": {
        "id": "broXSAfX9fma",
        "colab_type": "text"
      },
      "cell_type": "markdown",
      "source": [
        "### Set the learning rate, criterion, & optimizer"
      ]
    },
    {
      "metadata": {
        "id": "0qiBVs22kt0S",
        "colab_type": "code",
        "colab": {
          "autoexec": {
            "startup": false,
            "wait_interval": 0
          }
        }
      },
      "cell_type": "code",
      "source": [
        "#setting the learning rate\n",
        "learning_rate = 1e-3\n",
        "\n",
        "# Using a variable to store the cross entropy method\n",
        "criterion = nn.CrossEntropyLoss()\n",
        "\n",
        "# Using a variable to store the optimizer \n",
        "optimizer = torch.optim.SGD(model.parameters(),lr = learning_rate)\n"
      ],
      "execution_count": 0,
      "outputs": []
    },
    {
      "metadata": {
        "id": "CLfmDuBL9lqi",
        "colab_type": "text"
      },
      "cell_type": "markdown",
      "source": [
        "### Train and Evaluate the data"
      ]
    },
    {
      "metadata": {
        "id": "kvfb94yR9XPK",
        "colab_type": "code",
        "colab": {
          "autoexec": {
            "startup": false,
            "wait_interval": 0
          },
          "base_uri": "https://localhost:8080/",
          "height": 438
        },
        "outputId": "57f950d4-2b53-486c-bafd-71b81042b923",
        "executionInfo": {
          "status": "ok",
          "timestamp": 1528308425306,
          "user_tz": 240,
          "elapsed": 8642,
          "user": {
            "displayName": "Ting-Yi Su",
            "photoUrl": "https://lh3.googleusercontent.com/a/default-user=s128",
            "userId": "118326931190013634369"
          }
        }
      },
      "cell_type": "code",
      "source": [
        "t0 = time.time()\n",
        "\n",
        "# variable to store the total loss\n",
        "total_loss = []\n",
        "\n",
        "# for loop that iterates over all the epochs\n",
        "num_epochs = 10\n",
        "for epoch in range(num_epochs):\n",
        "    \n",
        "    # variables to store/keep track of the loss and number of iterations\n",
        "    train_loss = 0\n",
        "    num_iter = 0\n",
        "    \n",
        "    # train the model\n",
        "    model.train()\n",
        "    \n",
        "    # Iterate over train_loader\n",
        "    for i, (images, labels) in enumerate(train_loader):  \n",
        "      \n",
        "        # print(images.shape)\n",
        "        # print(labels)\n",
        "        \n",
        "        # need to permute so that the images are of size 3x28x28 \n",
        "        # essential to be able to feed images into the model\n",
        "        images = images.permute(0, 3, 1, 2)\n",
        "        # print(images.shape)\n",
        "\n",
        "        # Zero the gradient buffer\n",
        "        # resets the gradient after each epoch so that the gradients don't add up\n",
        "        optimizer.zero_grad()  \n",
        "        \n",
        "        # Forward\n",
        "        outputs = model(images)\n",
        "       \n",
        "        # calculate the loss\n",
        "        loss = criterion(outputs, labels.view(-1))\n",
        "        #print('loss:', loss)\n",
        "        total_loss.append(loss)\n",
        "        # Backward\n",
        "        loss.backward()\n",
        "        \n",
        "        # Optimize\n",
        "        # loops through all parameters and updates weights by using the gradients \n",
        "        optimizer.step()\n",
        "        # update the training loss and number of iterations\n",
        "        train_loss += loss.data[0]\n",
        "        num_iter += 1\n",
        "    \n",
        "    print('Epoch: {}, Loss: {:.4f}'.format(\n",
        "          epoch+1, train_loss/num_iter))\n",
        "    \n",
        "    # evaluate the model\n",
        "    model.eval()\n",
        "\n",
        "    correct = 0\n",
        "    total = 0\n",
        "\n",
        "    # Iterate over validation_loader\n",
        "    for images, labels in validation_loader:  \n",
        "       \n",
        "       # need to permute so that the images are of size 3x28x28 \n",
        "       # essential to be able to feed images into the model\n",
        "       images = images.permute(0, 3, 1, 2)\n",
        "          \n",
        "       # Forward\n",
        "       outputs = model(images)\n",
        "       loss = criterion(outputs, labels.view(-1))\n",
        "       _, predicted = torch.max(outputs.data, 1)\n",
        "    \n",
        "       # Statistics\n",
        "       total += labels.size(0)\n",
        "       correct += (predicted == labels).sum()\n",
        "       \n",
        "    print('Accuracy on the validation set: {}%'.format(100 * correct / total))\n",
        "\n",
        "tf = time.time()\n",
        "print()\n",
        "print(\"time: {} s\" .format(tf-t0))"
      ],
      "execution_count": 18,
      "outputs": [
        {
          "output_type": "stream",
          "text": [
            "/usr/local/lib/python3.6/dist-packages/ipykernel_launcher.py:46: UserWarning: invalid index of a 0-dim tensor. This will be an error in PyTorch 0.5. Use tensor.item() to convert a 0-dim tensor to a Python number\n"
          ],
          "name": "stderr"
        },
        {
          "output_type": "stream",
          "text": [
            "Epoch: 1, Loss: 3.2475\n",
            "Accuracy on the validation set: 12%\n",
            "Epoch: 2, Loss: 3.2474\n",
            "Accuracy on the validation set: 12%\n",
            "Epoch: 3, Loss: 3.2472\n",
            "Accuracy on the validation set: 12%\n",
            "Epoch: 4, Loss: 3.2470\n",
            "Accuracy on the validation set: 12%\n",
            "Epoch: 5, Loss: 3.2469\n",
            "Accuracy on the validation set: 12%\n",
            "Epoch: 6, Loss: 3.2468\n",
            "Accuracy on the validation set: 12%\n",
            "Epoch: 7, Loss: 3.2466\n",
            "Accuracy on the validation set: 12%\n",
            "Epoch: 8, Loss: 3.2465\n",
            "Accuracy on the validation set: 3%\n",
            "Epoch: 9, Loss: 3.2464\n",
            "Accuracy on the validation set: 12%\n",
            "Epoch: 10, Loss: 3.2462\n",
            "Accuracy on the validation set: 3%\n",
            "\n",
            "time: 8.309212923049927 s\n"
          ],
          "name": "stdout"
        }
      ]
    },
    {
      "metadata": {
        "id": "B8raennyLGRj",
        "colab_type": "code",
        "colab": {
          "autoexec": {
            "startup": false,
            "wait_interval": 0
          },
          "base_uri": "https://localhost:8080/",
          "height": 226
        },
        "outputId": "e9928748-0b8a-4e4c-9d40-64caac16a4d7",
        "executionInfo": {
          "status": "ok",
          "timestamp": 1528308363902,
          "user_tz": 240,
          "elapsed": 760,
          "user": {
            "displayName": "Ting-Yi Su",
            "photoUrl": "https://lh3.googleusercontent.com/a/default-user=s128",
            "userId": "118326931190013634369"
          }
        }
      },
      "cell_type": "code",
      "source": [
        "t0 = time.time()\n",
        "\n",
        "# variable to store the total loss\n",
        "total_loss = []\n",
        "\n",
        "# for loop that iterates over all the epochs\n",
        "num_epochs = 10\n",
        "for epoch in range(num_epochs):\n",
        "    \n",
        "    # evaluate the model\n",
        "    model.eval()\n",
        "\n",
        "    correct = 0\n",
        "    total = 0\n",
        "\n",
        "    # Iterate over test_loader\n",
        "    for images, labels in test_loader:  \n",
        "       \n",
        "       # need to permute so that the images are of size 3x28x28 \n",
        "       # essential to be able to feed images into the model\n",
        "       images = images.permute(0, 3, 1, 2)\n",
        "          \n",
        "       # Forward\n",
        "       outputs = model(images)\n",
        "       loss = criterion(outputs, labels.view(-1))\n",
        "       _, predicted = torch.max(outputs.data, 1)\n",
        "    \n",
        "       # Statistics\n",
        "       total += labels.size(0)\n",
        "       correct += (predicted == labels).sum()\n",
        "       \n",
        "    print('Accuracy on the test set: {}%'.format(100 * correct / total))\n",
        "\n",
        "tf = time.time()\n",
        "print()\n",
        "print(\"time: {} s\" .format(tf-t0))"
      ],
      "execution_count": 14,
      "outputs": [
        {
          "output_type": "stream",
          "text": [
            "Accuracy on the test set: 19%\n",
            "Accuracy on the test set: 19%\n",
            "Accuracy on the test set: 19%\n",
            "Accuracy on the test set: 19%\n",
            "Accuracy on the test set: 19%\n",
            "Accuracy on the test set: 19%\n",
            "Accuracy on the test set: 19%\n",
            "Accuracy on the test set: 19%\n",
            "Accuracy on the test set: 19%\n",
            "Accuracy on the test set: 19%\n",
            "\n",
            "time: 0.5491518974304199 s\n"
          ],
          "name": "stdout"
        }
      ]
    }
  ]
}