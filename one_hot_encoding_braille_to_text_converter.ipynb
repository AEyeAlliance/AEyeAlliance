{
  "nbformat": 4,
  "nbformat_minor": 0,
  "metadata": {
    "colab": {
      "name": "One Hot Encoding Braille to text converter",
      "version": "0.3.2",
      "views": {},
      "default_view": {},
      "provenance": [
        {
          "file_id": "19cLVbAvTfuu0pqaadxpgyMsFxHC3nnNF",
          "timestamp": 1527465087778
        }
      ],
      "collapsed_sections": []
    },
    "kernelspec": {
      "name": "python3",
      "display_name": "Python 3"
    }
  },
  "cells": [
    {
      "metadata": {
        "id": "0wXt1-AGqK35",
        "colab_type": "text"
      },
      "cell_type": "markdown",
      "source": [
        "This version uses one-hot encoding vectors of size 26 as the targets. This one overfits like crazy as well, but we will fix that! :D"
      ]
    },
    {
      "metadata": {
        "id": "H-ra1DTnR0S6",
        "colab_type": "text"
      },
      "cell_type": "markdown",
      "source": [
        "### Install pytorch "
      ]
    },
    {
      "metadata": {
        "id": "ikmT9ejsWLrU",
        "colab_type": "code",
        "colab": {
          "autoexec": {
            "startup": false,
            "wait_interval": 0
          },
          "base_uri": "https://localhost:8080/",
          "height": 123
        },
        "cellView": "code",
        "outputId": "5904dc4b-e602-461d-fcfe-a35167296f92",
        "executionInfo": {
          "status": "ok",
          "timestamp": 1528397559394,
          "user_tz": 240,
          "elapsed": 4946,
          "user": {
            "displayName": "Ting-Yi Su",
            "photoUrl": "https://lh3.googleusercontent.com/a/default-user=s128",
            "userId": "118326931190013634369"
          }
        }
      },
      "cell_type": "code",
      "source": [
        "# use cross entropy for classification problems\n",
        "\n",
        "import time\n",
        "import platform\n",
        "import io\n",
        "\n",
        "import matplotlib.pyplot as plt\n",
        "from google.colab import files\n",
        "from matplotlib.pyplot import cm \n",
        "\n",
        "# import KFold from scikit-learn\n",
        "from sklearn.model_selection import KFold\n",
        "\n",
        "def install_pytorch():\n",
        "    os = platform.system()\n",
        "    if os == \"Linux\":\n",
        "        !pip3 install http://download.pytorch.org/whl/cu90/torch-0.4.0-cp36-cp36m-linux_x86_64.whl\n",
        "    elif os == \"Windows\":\n",
        "        !pip3 install http://download.pytorch.org/whl/cu90/torch-0.4.0-cp36-cp36m-win_amd64.whl \n",
        "    !pip3 install torchvision\n",
        "\n",
        "\n",
        "# Install PyTorch.\n",
        "install_pytorch()\n",
        "\n",
        "\n",
        "import torch\n",
        "import torch.nn as nn\n",
        "import torch.optim as optim"
      ],
      "execution_count": 27,
      "outputs": [
        {
          "output_type": "stream",
          "text": [
            "Requirement already satisfied: torch==0.4.0 from http://download.pytorch.org/whl/cu90/torch-0.4.0-cp36-cp36m-linux_x86_64.whl in /usr/local/lib/python3.6/dist-packages (0.4.0)\n",
            "Requirement already satisfied: torchvision in /usr/local/lib/python3.6/dist-packages (0.2.1)\n",
            "Requirement already satisfied: six in /usr/local/lib/python3.6/dist-packages (from torchvision) (1.11.0)\n",
            "Requirement already satisfied: numpy in /usr/local/lib/python3.6/dist-packages (from torchvision) (1.14.3)\n",
            "Requirement already satisfied: torch in /usr/local/lib/python3.6/dist-packages (from torchvision) (0.4.0)\n",
            "Requirement already satisfied: pillow>=4.1.1 in /usr/local/lib/python3.6/dist-packages (from torchvision) (5.1.0)\n"
          ],
          "name": "stdout"
        }
      ]
    },
    {
      "metadata": {
        "id": "BK-KXPMNRbao",
        "colab_type": "text"
      },
      "cell_type": "markdown",
      "source": [
        "### Enable GPU Usage\n",
        "\n",
        "Model trains much more quickly with GPU. "
      ]
    },
    {
      "metadata": {
        "id": "wvckHX5NktK7",
        "colab_type": "code",
        "colab": {
          "autoexec": {
            "startup": false,
            "wait_interval": 0
          }
        }
      },
      "cell_type": "code",
      "source": [
        "# # turn on GPU\n",
        "# use_gpu = torch.cuda.is_available()\n",
        "\n",
        "# print(\"GPU Available: {}\".format(use_gpu))"
      ],
      "execution_count": 0,
      "outputs": []
    },
    {
      "metadata": {
        "id": "TuhFUrX0O2Se",
        "colab_type": "text"
      },
      "cell_type": "markdown",
      "source": [
        "## Dataset"
      ]
    },
    {
      "metadata": {
        "id": "Tw-iCQFfRhS7",
        "colab_type": "text"
      },
      "cell_type": "markdown",
      "source": [
        "### Import and read the CSV file "
      ]
    },
    {
      "metadata": {
        "id": "_1kJYrn79Cft",
        "colab_type": "code",
        "colab": {
          "autoexec": {
            "startup": false,
            "wait_interval": 0
          }
        }
      },
      "cell_type": "code",
      "source": [
        "#import csv dataset\n",
        "import torchvision\n",
        "import csv\n",
        "import os\n",
        "import pandas as pd \n",
        "from urllib import request\n",
        "import requests\n",
        "\n",
        "# Upload and read the csv files from the github repo\n",
        "df = pd.read_csv(\"https://raw.githubusercontent.com/HelenG123/aeye-alliance/master/Data/data_day3.csv\")\n",
        "df_test = pd.read_csv(\"https://raw.githubusercontent.com/HelenG123/ai-alliance/master/brailleFinalv2.csv\")"
      ],
      "execution_count": 0,
      "outputs": []
    },
    {
      "metadata": {
        "id": "D27Trx7G_CyV",
        "colab_type": "text"
      },
      "cell_type": "markdown",
      "source": [
        "### Generate the Targets\n",
        "Create a dictionary that contains the one-hot encoding vector for each image in the Braille alphabet.\n"
      ]
    },
    {
      "metadata": {
        "id": "KAIczjRJ_HBN",
        "colab_type": "code",
        "colab": {
          "autoexec": {
            "startup": false,
            "wait_interval": 0
          },
          "base_uri": "https://localhost:8080/",
          "height": 55
        },
        "outputId": "a2ad27d5-4024-487c-ccfd-1800adac3ac5",
        "executionInfo": {
          "status": "ok",
          "timestamp": 1528397564691,
          "user_tz": 240,
          "elapsed": 287,
          "user": {
            "displayName": "Ting-Yi Su",
            "photoUrl": "https://lh3.googleusercontent.com/a/default-user=s128",
            "userId": "118326931190013634369"
          }
        }
      },
      "cell_type": "code",
      "source": [
        "import string\n",
        "alphabet = list(string.ascii_lowercase)\n",
        "\n",
        "target = {}\n",
        "\n",
        "# Initalize a target dict that has the letters as its keys and as its value\n",
        "# an empty one-hot encoding of size 26\n",
        "for letter in alphabet: \n",
        "  target[letter] = [0] * 26\n",
        "\n",
        "# Do the one-hot encoding for each letter now \n",
        "curr_pos = 0 \n",
        "for curr_letter in target.keys():\n",
        "  target[curr_letter][curr_pos] = 1\n",
        "  curr_pos += 1  \n",
        "\n",
        "print(target)"
      ],
      "execution_count": 29,
      "outputs": [
        {
          "output_type": "stream",
          "text": [
            "{'a': [1, 0, 0, 0, 0, 0, 0, 0, 0, 0, 0, 0, 0, 0, 0, 0, 0, 0, 0, 0, 0, 0, 0, 0, 0, 0], 'b': [0, 1, 0, 0, 0, 0, 0, 0, 0, 0, 0, 0, 0, 0, 0, 0, 0, 0, 0, 0, 0, 0, 0, 0, 0, 0], 'c': [0, 0, 1, 0, 0, 0, 0, 0, 0, 0, 0, 0, 0, 0, 0, 0, 0, 0, 0, 0, 0, 0, 0, 0, 0, 0], 'd': [0, 0, 0, 1, 0, 0, 0, 0, 0, 0, 0, 0, 0, 0, 0, 0, 0, 0, 0, 0, 0, 0, 0, 0, 0, 0], 'e': [0, 0, 0, 0, 1, 0, 0, 0, 0, 0, 0, 0, 0, 0, 0, 0, 0, 0, 0, 0, 0, 0, 0, 0, 0, 0], 'f': [0, 0, 0, 0, 0, 1, 0, 0, 0, 0, 0, 0, 0, 0, 0, 0, 0, 0, 0, 0, 0, 0, 0, 0, 0, 0], 'g': [0, 0, 0, 0, 0, 0, 1, 0, 0, 0, 0, 0, 0, 0, 0, 0, 0, 0, 0, 0, 0, 0, 0, 0, 0, 0], 'h': [0, 0, 0, 0, 0, 0, 0, 1, 0, 0, 0, 0, 0, 0, 0, 0, 0, 0, 0, 0, 0, 0, 0, 0, 0, 0], 'i': [0, 0, 0, 0, 0, 0, 0, 0, 1, 0, 0, 0, 0, 0, 0, 0, 0, 0, 0, 0, 0, 0, 0, 0, 0, 0], 'j': [0, 0, 0, 0, 0, 0, 0, 0, 0, 1, 0, 0, 0, 0, 0, 0, 0, 0, 0, 0, 0, 0, 0, 0, 0, 0], 'k': [0, 0, 0, 0, 0, 0, 0, 0, 0, 0, 1, 0, 0, 0, 0, 0, 0, 0, 0, 0, 0, 0, 0, 0, 0, 0], 'l': [0, 0, 0, 0, 0, 0, 0, 0, 0, 0, 0, 1, 0, 0, 0, 0, 0, 0, 0, 0, 0, 0, 0, 0, 0, 0], 'm': [0, 0, 0, 0, 0, 0, 0, 0, 0, 0, 0, 0, 1, 0, 0, 0, 0, 0, 0, 0, 0, 0, 0, 0, 0, 0], 'n': [0, 0, 0, 0, 0, 0, 0, 0, 0, 0, 0, 0, 0, 1, 0, 0, 0, 0, 0, 0, 0, 0, 0, 0, 0, 0], 'o': [0, 0, 0, 0, 0, 0, 0, 0, 0, 0, 0, 0, 0, 0, 1, 0, 0, 0, 0, 0, 0, 0, 0, 0, 0, 0], 'p': [0, 0, 0, 0, 0, 0, 0, 0, 0, 0, 0, 0, 0, 0, 0, 1, 0, 0, 0, 0, 0, 0, 0, 0, 0, 0], 'q': [0, 0, 0, 0, 0, 0, 0, 0, 0, 0, 0, 0, 0, 0, 0, 0, 1, 0, 0, 0, 0, 0, 0, 0, 0, 0], 'r': [0, 0, 0, 0, 0, 0, 0, 0, 0, 0, 0, 0, 0, 0, 0, 0, 0, 1, 0, 0, 0, 0, 0, 0, 0, 0], 's': [0, 0, 0, 0, 0, 0, 0, 0, 0, 0, 0, 0, 0, 0, 0, 0, 0, 0, 1, 0, 0, 0, 0, 0, 0, 0], 't': [0, 0, 0, 0, 0, 0, 0, 0, 0, 0, 0, 0, 0, 0, 0, 0, 0, 0, 0, 1, 0, 0, 0, 0, 0, 0], 'u': [0, 0, 0, 0, 0, 0, 0, 0, 0, 0, 0, 0, 0, 0, 0, 0, 0, 0, 0, 0, 1, 0, 0, 0, 0, 0], 'v': [0, 0, 0, 0, 0, 0, 0, 0, 0, 0, 0, 0, 0, 0, 0, 0, 0, 0, 0, 0, 0, 1, 0, 0, 0, 0], 'w': [0, 0, 0, 0, 0, 0, 0, 0, 0, 0, 0, 0, 0, 0, 0, 0, 0, 0, 0, 0, 0, 0, 1, 0, 0, 0], 'x': [0, 0, 0, 0, 0, 0, 0, 0, 0, 0, 0, 0, 0, 0, 0, 0, 0, 0, 0, 0, 0, 0, 0, 1, 0, 0], 'y': [0, 0, 0, 0, 0, 0, 0, 0, 0, 0, 0, 0, 0, 0, 0, 0, 0, 0, 0, 0, 0, 0, 0, 0, 1, 0], 'z': [0, 0, 0, 0, 0, 0, 0, 0, 0, 0, 0, 0, 0, 0, 0, 0, 0, 0, 0, 0, 0, 0, 0, 0, 0, 1]}\n"
          ],
          "name": "stdout"
        }
      ]
    },
    {
      "metadata": {
        "id": "S6XGJhcJOvCM",
        "colab_type": "text"
      },
      "cell_type": "markdown",
      "source": [
        "### Iterate over the CSV files\n",
        "Create a dictionary of the images that contains the image as a Tensor and its target as a one-hot encoded vector."
      ]
    },
    {
      "metadata": {
        "id": "k6W-EK9_Oz_C",
        "colab_type": "code",
        "colab": {
          "autoexec": {
            "startup": false,
            "wait_interval": 0
          },
          "base_uri": "https://localhost:8080/",
          "height": 932
        },
        "outputId": "13398cf1-8c31-4de5-9d4d-87cf3ba97a42",
        "executionInfo": {
          "status": "ok",
          "timestamp": 1528397286556,
          "user_tz": 240,
          "elapsed": 102161,
          "user": {
            "displayName": "Ting-Yi Su",
            "photoUrl": "https://lh3.googleusercontent.com/a/default-user=s128",
            "userId": "118326931190013634369"
          }
        }
      },
      "cell_type": "code",
      "source": [
        "from scipy import misc\n",
        "from io import BytesIO\n",
        "import urllib\n",
        "import cv2\n",
        "import numpy as np\n",
        "import tensorflow as tf\n",
        "\n",
        "import urllib.request\n",
        "\n",
        "from torchvision import transforms\n",
        "\n",
        "data=[]\n",
        "\n",
        "for i, row in df.iterrows():\n",
        "  picture = []\n",
        "  url = row['Labeled Data']\n",
        "  label = row['Label']\n",
        "  curr_target = target[label[10]]\n",
        "  # print(curr_target)\n",
        "\n",
        "  x = urllib.request.urlopen(url)\n",
        "  resp = x.read()\n",
        "  image = np.array(bytearray(resp), dtype=np.uint8)\n",
        "  image = cv2.imdecode(image, cv2.IMREAD_COLOR)\n",
        "  # resize image to 28x28x3\n",
        "  image = cv2.resize(image, (28, 28))\n",
        "  image = image.astype(np.float32)/255.0\n",
        "   #image = image.flatten().astype(np.float32)/255.0\n",
        "  image = torch.from_numpy(image)\n",
        "  picture.append(image)\n",
        "  curr_target=torch.LongTensor([curr_target])\n",
        "  picture.append(curr_target)\n",
        "  data.append(picture)\n",
        "\n",
        "print(image.shape) # these are the dimensions of our image\n",
        "print(data[0][0])\n",
        "print(data[0][1])\n",
        "# print(max([d[1] for d in data]))\n",
        "\n",
        "data_test=[]\n",
        "\n",
        "for i, row in df_test.iterrows():\n",
        "  picture = []\n",
        "  url = row['Labeled Data']\n",
        "  label = row['External ID']\n",
        "  curr_target = target[label[0]]\n",
        "  # print(curr_target)\n",
        "\n",
        "  x = urllib.request.urlopen(url)\n",
        "  resp = x.read()\n",
        "  image = np.array(bytearray(resp), dtype=np.uint8)\n",
        "  image = cv2.imdecode(image, cv2.IMREAD_COLOR)\n",
        "  # resize image to 28x28x3\n",
        "  image = cv2.resize(image, (28, 28))\n",
        "  image = image.astype(np.float32)/255.0\n",
        "   #image = image.flatten().astype(np.float32)/255.0\n",
        "  image = torch.from_numpy(image)\n",
        "  picture.append(image)\n",
        "  curr_target=torch.LongTensor([curr_target])\n",
        "  picture.append(curr_target)\n",
        "  data_test.append(picture)"
      ],
      "execution_count": 0,
      "outputs": [
        {
          "output_type": "stream",
          "text": [
            "torch.Size([28, 28, 3])\n",
            "tensor([[[ 0.8745,  0.8314,  0.8157],\n",
            "         [ 0.8745,  0.8275,  0.8157],\n",
            "         [ 0.8745,  0.8275,  0.8196],\n",
            "         ...,\n",
            "         [ 0.8784,  0.8314,  0.8157],\n",
            "         [ 0.8745,  0.8314,  0.8196],\n",
            "         [ 0.8745,  0.8314,  0.8196]],\n",
            "\n",
            "        [[ 0.8706,  0.8275,  0.8118],\n",
            "         [ 0.8706,  0.8275,  0.8118],\n",
            "         [ 0.8667,  0.8235,  0.8078],\n",
            "         ...,\n",
            "         [ 0.8824,  0.8353,  0.8196],\n",
            "         [ 0.8745,  0.8275,  0.8196],\n",
            "         [ 0.8706,  0.8235,  0.8157]],\n",
            "\n",
            "        [[ 0.8745,  0.8314,  0.8157],\n",
            "         [ 0.8745,  0.8314,  0.8157],\n",
            "         [ 0.8706,  0.8275,  0.8118],\n",
            "         ...,\n",
            "         [ 0.8863,  0.8392,  0.8275],\n",
            "         [ 0.8745,  0.8275,  0.8196],\n",
            "         [ 0.8745,  0.8275,  0.8196]],\n",
            "\n",
            "        ...,\n",
            "\n",
            "        [[ 0.8706,  0.8314,  0.8039],\n",
            "         [ 0.8824,  0.8431,  0.8157],\n",
            "         [ 0.8784,  0.8392,  0.8118],\n",
            "         ...,\n",
            "         [ 0.8706,  0.8314,  0.8039],\n",
            "         [ 0.8627,  0.8275,  0.8000],\n",
            "         [ 0.8627,  0.8275,  0.7961]],\n",
            "\n",
            "        [[ 0.8627,  0.8275,  0.7922],\n",
            "         [ 0.8745,  0.8392,  0.8039],\n",
            "         [ 0.8745,  0.8392,  0.8039],\n",
            "         ...,\n",
            "         [ 0.8784,  0.8392,  0.8118],\n",
            "         [ 0.8627,  0.8235,  0.7961],\n",
            "         [ 0.8588,  0.8196,  0.7922]],\n",
            "\n",
            "        [[ 0.8667,  0.8314,  0.7961],\n",
            "         [ 0.8745,  0.8392,  0.8039],\n",
            "         [ 0.8745,  0.8392,  0.8039],\n",
            "         ...,\n",
            "         [ 0.8667,  0.8275,  0.7961],\n",
            "         [ 0.8667,  0.8275,  0.8000],\n",
            "         [ 0.8667,  0.8275,  0.8000]]])\n",
            "tensor([[ 1,  0,  0,  0,  0,  0,  0,  0,  0,  0,  0,  0,  0,  0,\n",
            "          0,  0,  0,  0,  0,  0,  0,  0,  0,  0,  0,  0]])\n"
          ],
          "name": "stdout"
        }
      ]
    },
    {
      "metadata": {
        "id": "thE4Nl9nMP0d",
        "colab_type": "text"
      },
      "cell_type": "markdown",
      "source": [
        "### Create DataLoader objects\n",
        "\n",
        "Dataloader gives a the object that we can iterate over so that we can enumerate and train our data."
      ]
    },
    {
      "metadata": {
        "id": "jAGps6lEMXVC",
        "colab_type": "code",
        "colab": {
          "autoexec": {
            "startup": false,
            "wait_interval": 0
          },
          "base_uri": "https://localhost:8080/",
          "height": 70
        },
        "outputId": "f1f3bc36-a0fd-41ba-fb92-da94a19e316a",
        "executionInfo": {
          "status": "ok",
          "timestamp": 1528397570387,
          "user_tz": 240,
          "elapsed": 474,
          "user": {
            "displayName": "Ting-Yi Su",
            "photoUrl": "https://lh3.googleusercontent.com/a/default-user=s128",
            "userId": "118326931190013634369"
          }
        }
      },
      "cell_type": "code",
      "source": [
        "# batch sizes for train, test, and validation\n",
        "batch_size_train = 10\n",
        "batch_size_test = 5\n",
        "batch_size_validation = 10\n",
        "\n",
        "# splitting data to get training and validation sets\n",
        "train_dataset = data[:600]\n",
        "validation_dataset = data[601:]\n",
        "\n",
        "# create the dataloader objects\n",
        "train_loader = torch.utils.data.DataLoader(dataset=train_dataset, batch_size=batch_size_train, shuffle=True)\n",
        "validation_loader = torch.utils.data.DataLoader(dataset=validation_dataset, batch_size=batch_size_validation, shuffle=True)\n",
        "test_loader = torch.utils.data.DataLoader(dataset=data_test, batch_size=batch_size_test, shuffle=False)\n",
        "\n",
        "print(len(train_loader))\n",
        "print(len(validation_loader))\n",
        "print(len(test_loader))"
      ],
      "execution_count": 30,
      "outputs": [
        {
          "output_type": "stream",
          "text": [
            "60\n",
            "9\n",
            "16\n"
          ],
          "name": "stdout"
        }
      ]
    },
    {
      "metadata": {
        "id": "zUxdGGHGeajB",
        "colab_type": "text"
      },
      "cell_type": "markdown",
      "source": [
        "### Visualize the Image\n",
        "Demonstrate that we can access and display an image from the dataset. \n"
      ]
    },
    {
      "metadata": {
        "id": "UkvrVL6EaJ0Z",
        "colab_type": "code",
        "colab": {
          "autoexec": {
            "startup": false,
            "wait_interval": 0
          },
          "base_uri": "https://localhost:8080/",
          "height": 365
        },
        "outputId": "b749bcf2-d0b3-4824-eb0f-8af248d5a43b",
        "executionInfo": {
          "status": "ok",
          "timestamp": 1528397573896,
          "user_tz": 240,
          "elapsed": 423,
          "user": {
            "displayName": "Ting-Yi Su",
            "photoUrl": "https://lh3.googleusercontent.com/a/default-user=s128",
            "userId": "118326931190013634369"
          }
        }
      },
      "cell_type": "code",
      "source": [
        "# Display 's' in Brailles\n",
        "import matplotlib.pyplot as plt\n",
        "import numpy as np\n",
        "dd = data[250][0].numpy()\n",
        "print('Braille Target: S/s')\n",
        "plt.imshow(dd)\n",
        "plt.show()\n"
      ],
      "execution_count": 31,
      "outputs": [
        {
          "output_type": "stream",
          "text": [
            "Braille Target: S/s\n"
          ],
          "name": "stdout"
        },
        {
          "output_type": "display_data",
          "data": {
            "image/png": "[encoded data removed]",
            "text/plain": [
              "<matplotlib.figure.Figure at 0x7fe37ce41a58>"
            ]
          },
          "metadata": {
            "tags": []
          }
        }
      ]
    },
    {
      "metadata": {
        "id": "n7kpWYqcx0Ab",
        "colab_type": "text"
      },
      "cell_type": "markdown",
      "source": [
        "## CNN Model"
      ]
    },
    {
      "metadata": {
        "id": "zjZ3lalDfUrv",
        "colab_type": "text"
      },
      "cell_type": "markdown",
      "source": [
        "### Define the Model"
      ]
    },
    {
      "metadata": {
        "id": "ruhzBcNumGl0",
        "colab_type": "code",
        "colab": {
          "autoexec": {
            "startup": false,
            "wait_interval": 0
          },
          "base_uri": "https://localhost:8080/",
          "height": 334
        },
        "outputId": "568fcc4b-53e4-4d08-ff35-892a838f3c05",
        "executionInfo": {
          "status": "ok",
          "timestamp": 1528400520320,
          "user_tz": 240,
          "elapsed": 271,
          "user": {
            "displayName": "Ting-Yi Su",
            "photoUrl": "https://lh3.googleusercontent.com/a/default-user=s128",
            "userId": "118326931190013634369"
          }
        }
      },
      "cell_type": "code",
      "source": [
        "# import the nn.Module class\n",
        "import torch.nn as nn\n",
        "\n",
        "# defines the convolutional neural network\n",
        "class CNN(nn.Module):\n",
        "    def __init__(self):\n",
        "        super(CNN, self).__init__()\n",
        "        self.block1 = nn.Sequential(\n",
        "            #3x28x28\n",
        "            nn.Conv2d(in_channels=3, \n",
        "                      out_channels=16, \n",
        "                      kernel_size=5, \n",
        "                      stride=1, \n",
        "                      padding=2),\n",
        "            #16x28x28\n",
        "            nn.MaxPool2d(kernel_size=2),\n",
        "            #16x14x14\n",
        "            nn.LeakyReLU()\n",
        "        )\n",
        "        #16x14x14\n",
        "        self.block2 = nn.Sequential(\n",
        "            nn.Conv2d(in_channels=16, \n",
        "                      out_channels=32, \n",
        "                      kernel_size=5, \n",
        "                      stride=1, \n",
        "                      padding=2),\n",
        "            #32x14x14\n",
        "            nn.MaxPool2d(kernel_size=2),\n",
        "            #32x7x7\n",
        "            nn.LeakyReLU()\n",
        "        ) \n",
        "        # linearly \n",
        "        self.block3 = nn.Sequential(\n",
        "            nn.Linear(32*7*7, 500),\n",
        "#             nn.Linear(500, 300),\n",
        "#             nn.Linear(300, 100),\n",
        "            nn.LeakyReLU(),\n",
        "            nn.Linear(500, 26)\n",
        "        )\n",
        "        \n",
        "        #1x26\n",
        "    \n",
        "    def forward(self, x): \n",
        "        out = self.block1(x)\n",
        "        out = self.block2(out)\n",
        "        # flatten the dataset\n",
        "        out = out.view(-1, 32*7*7)\n",
        "        out = self.block3(out)\n",
        "        \n",
        "        return out\n",
        "\n",
        "# convolutional neural network model\n",
        "model = CNN()\n",
        "\n",
        "# # if using GPU\n",
        "# if use_gpu:\n",
        "#   # switch model to GPU\n",
        "#   model.cuda()\n",
        "\n",
        "# print summary of the neural network model to check if everything is fine. \n",
        "print(model)\n",
        "print(\"# parameter: \", sum([param.nelement() for param in model.parameters()]))"
      ],
      "execution_count": 104,
      "outputs": [
        {
          "output_type": "stream",
          "text": [
            "CNN(\n",
            "  (block1): Sequential(\n",
            "    (0): Conv2d(3, 16, kernel_size=(5, 5), stride=(1, 1), padding=(2, 2))\n",
            "    (1): MaxPool2d(kernel_size=2, stride=2, padding=0, dilation=1, ceil_mode=False)\n",
            "    (2): LeakyReLU(negative_slope=0.01)\n",
            "  )\n",
            "  (block2): Sequential(\n",
            "    (0): Conv2d(16, 32, kernel_size=(5, 5), stride=(1, 1), padding=(2, 2))\n",
            "    (1): MaxPool2d(kernel_size=2, stride=2, padding=0, dilation=1, ceil_mode=False)\n",
            "    (2): LeakyReLU(negative_slope=0.01)\n",
            "  )\n",
            "  (block3): Sequential(\n",
            "    (0): Linear(in_features=1568, out_features=500, bias=True)\n",
            "    (1): LeakyReLU(negative_slope=0.01)\n",
            "    (2): Linear(in_features=500, out_features=26, bias=True)\n",
            "  )\n",
            ")\n",
            "# parameter:  811574\n"
          ],
          "name": "stdout"
        }
      ]
    },
    {
      "metadata": {
        "id": "broXSAfX9fma",
        "colab_type": "text"
      },
      "cell_type": "markdown",
      "source": [
        "### Set the learning rate, criterion, & optimizer"
      ]
    },
    {
      "metadata": {
        "id": "0qiBVs22kt0S",
        "colab_type": "code",
        "colab": {
          "autoexec": {
            "startup": false,
            "wait_interval": 0
          }
        }
      },
      "cell_type": "code",
      "source": [
        "#setting the learning rate\n",
        "learning_rate = 1e-3\n",
        "\n",
        "# Using a variable to store the cross entropy method\n",
        "criterion = nn.CrossEntropyLoss()\n",
        "\n",
        "# Using a variable to store the optimizer \n",
        "optimizer = torch.optim.Adam(model.parameters(),lr = learning_rate)\n"
      ],
      "execution_count": 0,
      "outputs": []
    },
    {
      "metadata": {
        "id": "CLfmDuBL9lqi",
        "colab_type": "text"
      },
      "cell_type": "markdown",
      "source": [
        "### Train and Evaluate the data"
      ]
    },
    {
      "metadata": {
        "id": "B_vgBOUfupGG",
        "colab_type": "text"
      },
      "cell_type": "markdown",
      "source": [
        "### Train the model on the train and validation sets"
      ]
    },
    {
      "metadata": {
        "id": "kvfb94yR9XPK",
        "colab_type": "code",
        "colab": {
          "autoexec": {
            "startup": false,
            "wait_interval": 0
          },
          "base_uri": "https://localhost:8080/",
          "height": 1445
        },
        "outputId": "46624950-a227-4404-88b4-dc6d5e10b876",
        "executionInfo": {
          "status": "ok",
          "timestamp": 1528400567625,
          "user_tz": 240,
          "elapsed": 42245,
          "user": {
            "displayName": "Ting-Yi Su",
            "photoUrl": "https://lh3.googleusercontent.com/a/default-user=s128",
            "userId": "118326931190013634369"
          }
        }
      },
      "cell_type": "code",
      "source": [
        "t0 = time.time()\n",
        "\n",
        "# list of all train_losses in 30 epochs\n",
        "train_losses = []\n",
        "# list of all validation losses in 30 epochs\n",
        "validation_losses = []\n",
        "\n",
        "# total train losses\n",
        "total_train_losses = []\n",
        "# total validation losses\n",
        "total_validation_losses = []\n",
        "\n",
        "# for loop that iterates over all the epochs\n",
        "num_epochs = 30\n",
        "for epoch in range(num_epochs):\n",
        "    \n",
        "  # variables to store/keep track of the loss and number of iterations\n",
        "  train_loss = 0\n",
        "  num_iter_train = 0\n",
        "\n",
        "  # train the model\n",
        "  model.train()\n",
        "    \n",
        "  # Iterate over train_loader\n",
        "  for i, (images, labels) in enumerate(train_loader):  \n",
        "    # need to permute so that the images are of size 3x28x28 \n",
        "    # essential to be able to feed images into the model\n",
        "    images = images.permute(0, 3, 1, 2)\n",
        "\n",
        "    # Zero the gradient buffer\n",
        "    # resets the gradient after each epoch so that the gradients don't add up\n",
        "    optimizer.zero_grad()  \n",
        "\n",
        "    # Forward\n",
        "    outputs = model(images)\n",
        "    \n",
        "    # convert the labels from one hot encoding vectors into integer values \n",
        "    labels = labels.view(-1, 26)\n",
        "    y_true = torch.argmax(labels, 1)\n",
        "\n",
        "    loss = criterion(outputs, y_true)\n",
        "    \n",
        "    #print('loss:', loss)\n",
        "    total_train_losses.append(loss)\n",
        "    # Backward (computes all the gradients)\n",
        "    loss.backward()\n",
        "\n",
        "    # Optimize\n",
        "    # loops through all parameters and updates weights by using the gradients \n",
        "    # takes steps backwards to optimize (to reach the minimum weight)\n",
        "    optimizer.step()\n",
        "    # update the training loss and number of iterations\n",
        "    train_loss += loss.data[0]\n",
        "    num_iter_train += 1\n",
        "\n",
        "  print('Epoch: {}, Training Loss: {:.4f}'.format(\n",
        "        epoch+1, train_loss/num_iter_train))\n",
        "  \n",
        "  train_losses.append(train_loss/num_iter_train)\n",
        "    \n",
        "  # variables to store/keep track of the loss and number of iterations\n",
        "  validation_loss = 0\n",
        "  num_iter_validation = 0\n",
        "    \n",
        "  # Iterate over train_loader\n",
        "  for i, (images, labels) in enumerate(validation_loader):  \n",
        "    # need to permute so that the images are of size 3x28x28 \n",
        "    # essential to be able to feed images into the model\n",
        "    images = images.permute(0, 3, 1, 2)\n",
        "    # print(images.shape)\n",
        "\n",
        "    # Zero the gradient buffer\n",
        "    # resets the gradient after each epoch so that the gradients don't add up\n",
        "    optimizer.zero_grad()  \n",
        "\n",
        "    # Forward\n",
        "    outputs = model(images)\n",
        "\n",
        "    # convert the labels from one hot encoding vectors to integer values\n",
        "    labels = labels.view(-1, 26)\n",
        "    y_true = torch.argmax(labels, 1)\n",
        "    # calculate the loss\n",
        "    loss = criterion(outputs, y_true)\n",
        "    #print('loss:', loss)\n",
        "    total_validation_losses.append(loss)\n",
        "\n",
        "    # update the training loss and number of iterations\n",
        "    validation_loss += loss.data[0]\n",
        "    num_iter_validation += 1\n",
        "\n",
        "  print('          Validation Loss: {:.4f}'.format(validation_loss/num_iter_validation))\n",
        "  \n",
        "  validation_losses.append(validation_loss/num_iter_validation)\n",
        "\n",
        "# calculate time it took to train the model\n",
        "tf = time.time()\n",
        "print()\n",
        "print(\"time: {} s\" .format(tf-t0))\n",
        "\n",
        "# print training loss and validation loss for all 30 epochs\n",
        "print(train_losses)\n",
        "print(validation_losses)"
      ],
      "execution_count": 106,
      "outputs": [
        {
          "output_type": "stream",
          "text": [
            "/usr/local/lib/python3.6/dist-packages/ipykernel_launcher.py:53: UserWarning: invalid index of a 0-dim tensor. This will be an error in PyTorch 0.5. Use tensor.item() to convert a 0-dim tensor to a Python number\n"
          ],
          "name": "stderr"
        },
        {
          "output_type": "stream",
          "text": [
            "Epoch: 1, Training Loss: 3.2673\n",
            "          Validation Loss: 3.2689\n"
          ],
          "name": "stdout"
        },
        {
          "output_type": "stream",
          "text": [
            "/usr/local/lib/python3.6/dist-packages/ipykernel_launcher.py:88: UserWarning: invalid index of a 0-dim tensor. This will be an error in PyTorch 0.5. Use tensor.item() to convert a 0-dim tensor to a Python number\n"
          ],
          "name": "stderr"
        },
        {
          "output_type": "stream",
          "text": [
            "Epoch: 2, Training Loss: 3.2596\n",
            "          Validation Loss: 3.2692\n",
            "Epoch: 3, Training Loss: 3.2561\n",
            "          Validation Loss: 3.2832\n",
            "Epoch: 4, Training Loss: 3.2582\n",
            "          Validation Loss: 3.2674\n",
            "Epoch: 5, Training Loss: 3.2562\n",
            "          Validation Loss: 3.2875\n",
            "Epoch: 6, Training Loss: 3.2551\n",
            "          Validation Loss: 3.2861\n",
            "Epoch: 7, Training Loss: 3.0832\n",
            "          Validation Loss: 2.8428\n",
            "Epoch: 8, Training Loss: 1.6946\n",
            "          Validation Loss: 1.1828\n",
            "Epoch: 9, Training Loss: 0.7736\n",
            "          Validation Loss: 0.6198\n",
            "Epoch: 10, Training Loss: 0.4145\n",
            "          Validation Loss: 0.6035\n",
            "Epoch: 11, Training Loss: 0.3860\n",
            "          Validation Loss: 0.6037\n",
            "Epoch: 12, Training Loss: 0.2681\n",
            "          Validation Loss: 0.3538\n",
            "Epoch: 13, Training Loss: 0.2023\n",
            "          Validation Loss: 0.4670\n",
            "Epoch: 14, Training Loss: 0.1764\n",
            "          Validation Loss: 0.4508\n",
            "Epoch: 15, Training Loss: 0.1485\n",
            "          Validation Loss: 0.4639\n",
            "Epoch: 16, Training Loss: 0.1354\n",
            "          Validation Loss: 0.4898\n",
            "Epoch: 17, Training Loss: 0.0825\n",
            "          Validation Loss: 0.4665\n",
            "Epoch: 18, Training Loss: 0.0615\n",
            "          Validation Loss: 0.7049\n",
            "Epoch: 19, Training Loss: 0.0535\n",
            "          Validation Loss: 0.4291\n",
            "Epoch: 20, Training Loss: 0.0746\n",
            "          Validation Loss: 0.5582\n",
            "Epoch: 21, Training Loss: 0.0542\n",
            "          Validation Loss: 0.3763\n",
            "Epoch: 22, Training Loss: 0.0457\n",
            "          Validation Loss: 0.4963\n",
            "Epoch: 23, Training Loss: 0.0486\n",
            "          Validation Loss: 0.4952\n",
            "Epoch: 24, Training Loss: 0.0716\n",
            "          Validation Loss: 0.4959\n",
            "Epoch: 25, Training Loss: 0.0449\n",
            "          Validation Loss: 0.6477\n",
            "Epoch: 26, Training Loss: 0.0411\n",
            "          Validation Loss: 0.7051\n",
            "Epoch: 27, Training Loss: 0.0320\n",
            "          Validation Loss: 0.7023\n",
            "Epoch: 28, Training Loss: 0.0281\n",
            "          Validation Loss: 0.7371\n",
            "Epoch: 29, Training Loss: 0.0287\n",
            "          Validation Loss: 0.8385\n",
            "Epoch: 30, Training Loss: 0.0299\n",
            "          Validation Loss: 0.6753\n",
            "\n",
            "time: 41.8951952457428 s\n",
            "[tensor(3.2673), tensor(3.2596), tensor(3.2561), tensor(3.2582), tensor(3.2562), tensor(3.2551), tensor(3.0832), tensor(1.6946), tensor(0.7736), tensor(0.4145), tensor(0.3860), tensor(0.2681), tensor(0.2023), tensor(0.1764), tensor(0.1485), tensor(0.1354), tensor(1.00000e-02 *\n",
            "       8.2536), tensor(1.00000e-02 *\n",
            "       6.1543), tensor(1.00000e-02 *\n",
            "       5.3506), tensor(1.00000e-02 *\n",
            "       7.4567), tensor(1.00000e-02 *\n",
            "       5.4224), tensor(1.00000e-02 *\n",
            "       4.5742), tensor(1.00000e-02 *\n",
            "       4.8643), tensor(1.00000e-02 *\n",
            "       7.1630), tensor(1.00000e-02 *\n",
            "       4.4872), tensor(1.00000e-02 *\n",
            "       4.1057), tensor(1.00000e-02 *\n",
            "       3.2049), tensor(1.00000e-02 *\n",
            "       2.8068), tensor(1.00000e-02 *\n",
            "       2.8680), tensor(1.00000e-02 *\n",
            "       2.9867)]\n",
            "[tensor(3.2689), tensor(3.2692), tensor(3.2832), tensor(3.2674), tensor(3.2875), tensor(3.2861), tensor(2.8428), tensor(1.1828), tensor(0.6198), tensor(0.6035), tensor(0.6037), tensor(0.3538), tensor(0.4670), tensor(0.4508), tensor(0.4639), tensor(0.4898), tensor(0.4665), tensor(0.7049), tensor(0.4291), tensor(0.5582), tensor(0.3763), tensor(0.4963), tensor(0.4952), tensor(0.4959), tensor(0.6477), tensor(0.7051), tensor(0.7023), tensor(0.7371), tensor(0.8385), tensor(0.6753)]\n"
          ],
          "name": "stdout"
        }
      ]
    },
    {
      "metadata": {
        "id": "QKRzD5okuuXG",
        "colab_type": "text"
      },
      "cell_type": "markdown",
      "source": [
        "### Plot the learning curve\n",
        "\n",
        "The learning curve is the validation & train losses over the training steps. Need to plot the learning curve to check for overfitting. "
      ]
    },
    {
      "metadata": {
        "id": "kSFCDrjwuuEA",
        "colab_type": "code",
        "colab": {
          "autoexec": {
            "startup": false,
            "wait_interval": 0
          }
        }
      },
      "cell_type": "code",
      "source": [
        "# learning curve function\n",
        "def plot_learning_curve(train_losses, validation_losses):\n",
        "  # plot the training and validation losses\n",
        "  # x-axis is the number of training steps\n",
        "  # y-axis is loss\n",
        "  plt.ylabel('Loss')\n",
        "  plt.xlabel('Number of Epochs')\n",
        "  plt.plot(train_losses, label=\"training\")\n",
        "  plt.plot(validation_losses, label=\"validation\")\n",
        "  plt.legend(loc=1)"
      ],
      "execution_count": 0,
      "outputs": []
    },
    {
      "metadata": {
        "id": "DYkVg2odxEd4",
        "colab_type": "code",
        "colab": {
          "autoexec": {
            "startup": false,
            "wait_interval": 0
          },
          "base_uri": "https://localhost:8080/",
          "height": 376
        },
        "outputId": "15b83e40-500f-4f48-841d-57688ac0f871",
        "executionInfo": {
          "status": "ok",
          "timestamp": 1528400585908,
          "user_tz": 240,
          "elapsed": 468,
          "user": {
            "displayName": "Ting-Yi Su",
            "photoUrl": "https://lh3.googleusercontent.com/a/default-user=s128",
            "userId": "118326931190013634369"
          }
        }
      },
      "cell_type": "code",
      "source": [
        "# plot\n",
        "plt.title(\"Learning Curve (Loss vs Number of Epochs)\")\n",
        "plot_learning_curve(train_losses, validation_losses)"
      ],
      "execution_count": 108,
      "outputs": [
        {
          "output_type": "display_data",
          "data": {
            "image/png": "[encoded data removed]",
            "text/plain": [
              "<matplotlib.figure.Figure at 0x7fe37bf8a080>"
            ]
          },
          "metadata": {
            "tags": []
          }
        }
      ]
    },
    {
      "metadata": {
        "id": "XOVMzGDMua0K",
        "colab_type": "text"
      },
      "cell_type": "markdown",
      "source": [
        "### Evaluate the model on the test set\n",
        "\n",
        "Don't touch the test set until the very end."
      ]
    },
    {
      "metadata": {
        "id": "GqHOrrqbuUN_",
        "colab_type": "code",
        "colab": {
          "autoexec": {
            "startup": false,
            "wait_interval": 0
          },
          "base_uri": "https://localhost:8080/",
          "height": 580
        },
        "outputId": "f33b037d-2c04-4b23-83ab-91eb9d073a40",
        "executionInfo": {
          "status": "ok",
          "timestamp": 1528400594261,
          "user_tz": 240,
          "elapsed": 2444,
          "user": {
            "displayName": "Ting-Yi Su",
            "photoUrl": "https://lh3.googleusercontent.com/a/default-user=s128",
            "userId": "118326931190013634369"
          }
        }
      },
      "cell_type": "code",
      "source": [
        "t0 = time.time()\n",
        "\n",
        "# for loop that iterates over all the epochs\n",
        "num_epochs = 30\n",
        "for epoch in range(num_epochs):\n",
        "\n",
        "  # evaluate the model\n",
        "  model.eval()\n",
        "\n",
        "  correct = 0\n",
        "  total = 0\n",
        "\n",
        "  # Iterate over test_loader\n",
        "  for images, labels in test_loader:  \n",
        "\n",
        "     # need to permute so that the images are of size 3x28x28 \n",
        "     # essential to be able to feed images into the model\n",
        "     images = images.permute(0, 3, 1, 2)\n",
        "\n",
        "     # Forward\n",
        "     outputs = model(images)\n",
        "      \n",
        "     # convert the labels from one hot encoding vectors into integer values \n",
        "     labels = labels.view(-1, 26)\n",
        "     y_true = torch.argmax(labels, 1)\n",
        "     loss = criterion(outputs, y_true)\n",
        "     \n",
        "     # find the index of the prediction\n",
        "     y_pred = torch.argmax(outputs, 1).type('torch.FloatTensor')\n",
        "    \n",
        "     y_true = y_true.type('torch.FloatTensor')\n",
        "     #print(torch.eq(y_true, y_pred))\n",
        "    \n",
        "     mean = torch.mean(torch.eq(y_true, y_pred).type('torch.FloatTensor'))\n",
        "\n",
        "     # Statistics\n",
        "     total_correct = mean * batch_size_test\n",
        "     \n",
        "\n",
        "  print('Epoch {}, Accuracy on the test set: {}%'.format(epoch+1, 100 * total_correct / batch_size_test))\n",
        "\n",
        "tf = time.time()\n",
        "print()\n",
        "print(\"time: {} s\" .format(tf-t0))"
      ],
      "execution_count": 109,
      "outputs": [
        {
          "output_type": "stream",
          "text": [
            "Epoch 1, Accuracy on the test set: 100.0%\n",
            "Epoch 2, Accuracy on the test set: 100.0%\n",
            "Epoch 3, Accuracy on the test set: 100.0%\n",
            "Epoch 4, Accuracy on the test set: 100.0%\n",
            "Epoch 5, Accuracy on the test set: 100.0%\n",
            "Epoch 6, Accuracy on the test set: 100.0%\n",
            "Epoch 7, Accuracy on the test set: 100.0%\n",
            "Epoch 8, Accuracy on the test set: 100.0%\n",
            "Epoch 9, Accuracy on the test set: 100.0%\n",
            "Epoch 10, Accuracy on the test set: 100.0%\n",
            "Epoch 11, Accuracy on the test set: 100.0%\n",
            "Epoch 12, Accuracy on the test set: 100.0%\n",
            "Epoch 13, Accuracy on the test set: 100.0%\n",
            "Epoch 14, Accuracy on the test set: 100.0%\n",
            "Epoch 15, Accuracy on the test set: 100.0%\n",
            "Epoch 16, Accuracy on the test set: 100.0%\n",
            "Epoch 17, Accuracy on the test set: 100.0%\n",
            "Epoch 18, Accuracy on the test set: 100.0%\n",
            "Epoch 19, Accuracy on the test set: 100.0%\n",
            "Epoch 20, Accuracy on the test set: 100.0%\n",
            "Epoch 21, Accuracy on the test set: 100.0%\n",
            "Epoch 22, Accuracy on the test set: 100.0%\n",
            "Epoch 23, Accuracy on the test set: 100.0%\n",
            "Epoch 24, Accuracy on the test set: 100.0%\n",
            "Epoch 25, Accuracy on the test set: 100.0%\n",
            "Epoch 26, Accuracy on the test set: 100.0%\n",
            "Epoch 27, Accuracy on the test set: 100.0%\n",
            "Epoch 28, Accuracy on the test set: 100.0%\n",
            "Epoch 29, Accuracy on the test set: 100.0%\n",
            "Epoch 30, Accuracy on the test set: 100.0%\n",
            "\n",
            "time: 1.959852695465088 s\n"
          ],
          "name": "stdout"
        }
      ]
    }
  ]
}